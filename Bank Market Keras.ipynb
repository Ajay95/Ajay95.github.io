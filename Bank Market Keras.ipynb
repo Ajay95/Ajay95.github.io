{
 "cells": [
  {
   "cell_type": "markdown",
   "metadata": {},
   "source": [
    "#  Neural Network (NN)"
   ]
  },
  {
   "cell_type": "markdown",
   "metadata": {},
   "source": [
    "##  What is  Neural Network?\n",
    " Artificial Neural Networks, came and mostly went over the decades. Neural Networks are inspired by our understanding of the biology of our brains – all those interconnections between the neurons. But, unlike a biological brain where any neuron can connect to any other neuron within a certain physical distance, these artificial neural networks have discrete layers, connections, and directions of data propagation.\n"
   ]
  },
  {
   "cell_type": "markdown",
   "metadata": {},
   "source": [
    "<img src=\"http://ufldl.stanford.edu/tutorial/images/Network3322.png\">\n"
   ]
  },
  {
   "cell_type": "markdown",
   "metadata": {},
   "source": [
    "Each Input Neuron is connected to each Output Neuron.The difference between a regular neural network and  MLPNN is that there maybe many hidden layers for a MLPNN which gives the  "
   ]
  },
  {
   "cell_type": "markdown",
   "metadata": {},
   "source": [
    "Dealing with the back propogation and the fast matrix multiplication takes lot of time for which we use some of the frameworks which allows us to build MLPNN easily some of them are "
   ]
  },
  {
   "cell_type": "markdown",
   "metadata": {},
   "source": [
    "<img src=\"http://imgur.com/5pdRnhr.jpg\">"
   ]
  },
  {
   "cell_type": "markdown",
   "metadata": {},
   "source": [
    "<img src=\"data:image/png;base64,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\">"
   ]
  },
  {
   "cell_type": "markdown",
   "metadata": {},
   "source": [
    "<img src=\"data:image/png;base64,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\">\n"
   ]
  },
  {
   "cell_type": "markdown",
   "metadata": {},
   "source": [
    "<img src=\"data:image/png;base64,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\">"
   ]
  },
  {
   "cell_type": "markdown",
   "metadata": {},
   "source": [
    "## Why keras?\n",
    "\n",
    "#### User friendliness.\n",
    "Keras is an API designed for human beings, not machines. It puts user experience front and center. Keras follows best practices for reducing cognitive load: it offers consistent & simple APIs, it minimizes the number of user actions required for common use cases, and it provides clear and actionable feedback upon user error.\n",
    "\n",
    "#### Modularity. \n",
    "A model is understood as a sequence or a graph of standalone, fully-configurable modules that can be plugged together with as little restrictions as possible. In particular, neural layers, cost functions, optimizers, initialization schemes, activation functions, regularization schemes are all standalone modules that you can combine to create new models.\n",
    "\n",
    "#### Easy extensibility\n",
    "New modules are simple to add (as new classes and functions), and existing modules provide ample examples. To be able to easily create new modules allows for total expressiveness, making Keras suitable for advanced research.\n",
    "\n",
    "#### Work with Python. \n",
    "No separate models configuration files in a declarative format. Models are described in Python code, which is compact, easier to debug, and allows for ease of extensibility.\n",
    "\n",
    "Keras uses either **TensorFlow** or **Theano** for backend process for Tensor manipulation library.Keras is only concerned with modularity as well as the easy use of the framework"
   ]
  },
  {
   "cell_type": "code",
   "execution_count": 48,
   "metadata": {
    "collapsed": true
   },
   "outputs": [],
   "source": [
    "from __future__ import print_function\n",
    "import pandas as pd\n",
    "import numpy as np\n",
    "import matplotlib.pyplot as plt\n",
    "from sklearn.preprocessing import LabelEncoder\n",
    "from sklearn.model_selection import GridSearchCV\n",
    "from sklearn.cross_validation import cross_val_score\n",
    "from imblearn.over_sampling import SMOTE\n",
    "from sklearn.preprocessing import MinMaxScaler\n",
    "from sklearn.preprocessing import StandardScaler\n",
    "from sklearn.model_selection import train_test_split\n",
    "import tensorflow\n",
    "from keras.callbacks import TensorBoard\n",
    "from keras.models import Model\n",
    "from keras.models import Sequential\n",
    "from keras.layers import Dense, Activation,Input\n",
    "from keras.wrappers.scikit_learn import KerasClassifier\n",
    "import warnings \n",
    "warnings.filterwarnings('ignore')\n",
    "%matplotlib inline\n"
   ]
  },
  {
   "cell_type": "code",
   "execution_count": 4,
   "metadata": {
    "collapsed": true
   },
   "outputs": [],
   "source": [
    "data=pd.read_csv(\"bank_market.csv\")\n"
   ]
  },
  {
   "cell_type": "markdown",
   "metadata": {},
   "source": [
    "We encode the data using one-hot encoding .One hot encoding transforms categorical features to a format that works better with  algorithms.Mathematically, one hot encoding produces a balanced matrix, which is easy to understand during complex computations inside algorithms."
   ]
  },
  {
   "cell_type": "code",
   "execution_count": 5,
   "metadata": {},
   "outputs": [
    {
     "data": {
      "text/html": [
       "<div>\n",
       "<style>\n",
       "    .dataframe thead tr:only-child th {\n",
       "        text-align: right;\n",
       "    }\n",
       "\n",
       "    .dataframe thead th {\n",
       "        text-align: left;\n",
       "    }\n",
       "\n",
       "    .dataframe tbody tr th {\n",
       "        vertical-align: top;\n",
       "    }\n",
       "</style>\n",
       "<table border=\"1\" class=\"dataframe\">\n",
       "  <thead>\n",
       "    <tr style=\"text-align: right;\">\n",
       "      <th></th>\n",
       "      <th>Cust_num</th>\n",
       "      <th>age</th>\n",
       "      <th>balance</th>\n",
       "      <th>day</th>\n",
       "      <th>duration</th>\n",
       "      <th>campaign</th>\n",
       "      <th>pdays</th>\n",
       "      <th>previous</th>\n",
       "      <th>job_blue-collar</th>\n",
       "      <th>job_entrepreneur</th>\n",
       "      <th>...</th>\n",
       "      <th>month_jun</th>\n",
       "      <th>month_mar</th>\n",
       "      <th>month_may</th>\n",
       "      <th>month_nov</th>\n",
       "      <th>month_oct</th>\n",
       "      <th>month_sep</th>\n",
       "      <th>poutcome_other</th>\n",
       "      <th>poutcome_success</th>\n",
       "      <th>poutcome_unknown</th>\n",
       "      <th>y_yes</th>\n",
       "    </tr>\n",
       "  </thead>\n",
       "  <tbody>\n",
       "    <tr>\n",
       "      <th>0</th>\n",
       "      <td>1</td>\n",
       "      <td>58</td>\n",
       "      <td>2143</td>\n",
       "      <td>5</td>\n",
       "      <td>261</td>\n",
       "      <td>1</td>\n",
       "      <td>-1</td>\n",
       "      <td>0</td>\n",
       "      <td>0</td>\n",
       "      <td>0</td>\n",
       "      <td>...</td>\n",
       "      <td>0</td>\n",
       "      <td>0</td>\n",
       "      <td>1</td>\n",
       "      <td>0</td>\n",
       "      <td>0</td>\n",
       "      <td>0</td>\n",
       "      <td>0</td>\n",
       "      <td>0</td>\n",
       "      <td>1</td>\n",
       "      <td>0</td>\n",
       "    </tr>\n",
       "    <tr>\n",
       "      <th>1</th>\n",
       "      <td>2</td>\n",
       "      <td>44</td>\n",
       "      <td>29</td>\n",
       "      <td>5</td>\n",
       "      <td>151</td>\n",
       "      <td>1</td>\n",
       "      <td>-1</td>\n",
       "      <td>0</td>\n",
       "      <td>0</td>\n",
       "      <td>0</td>\n",
       "      <td>...</td>\n",
       "      <td>0</td>\n",
       "      <td>0</td>\n",
       "      <td>1</td>\n",
       "      <td>0</td>\n",
       "      <td>0</td>\n",
       "      <td>0</td>\n",
       "      <td>0</td>\n",
       "      <td>0</td>\n",
       "      <td>1</td>\n",
       "      <td>0</td>\n",
       "    </tr>\n",
       "    <tr>\n",
       "      <th>2</th>\n",
       "      <td>3</td>\n",
       "      <td>33</td>\n",
       "      <td>2</td>\n",
       "      <td>5</td>\n",
       "      <td>76</td>\n",
       "      <td>1</td>\n",
       "      <td>-1</td>\n",
       "      <td>0</td>\n",
       "      <td>0</td>\n",
       "      <td>1</td>\n",
       "      <td>...</td>\n",
       "      <td>0</td>\n",
       "      <td>0</td>\n",
       "      <td>1</td>\n",
       "      <td>0</td>\n",
       "      <td>0</td>\n",
       "      <td>0</td>\n",
       "      <td>0</td>\n",
       "      <td>0</td>\n",
       "      <td>1</td>\n",
       "      <td>0</td>\n",
       "    </tr>\n",
       "    <tr>\n",
       "      <th>3</th>\n",
       "      <td>4</td>\n",
       "      <td>47</td>\n",
       "      <td>1506</td>\n",
       "      <td>5</td>\n",
       "      <td>92</td>\n",
       "      <td>1</td>\n",
       "      <td>-1</td>\n",
       "      <td>0</td>\n",
       "      <td>1</td>\n",
       "      <td>0</td>\n",
       "      <td>...</td>\n",
       "      <td>0</td>\n",
       "      <td>0</td>\n",
       "      <td>1</td>\n",
       "      <td>0</td>\n",
       "      <td>0</td>\n",
       "      <td>0</td>\n",
       "      <td>0</td>\n",
       "      <td>0</td>\n",
       "      <td>1</td>\n",
       "      <td>0</td>\n",
       "    </tr>\n",
       "    <tr>\n",
       "      <th>4</th>\n",
       "      <td>5</td>\n",
       "      <td>33</td>\n",
       "      <td>1</td>\n",
       "      <td>5</td>\n",
       "      <td>198</td>\n",
       "      <td>1</td>\n",
       "      <td>-1</td>\n",
       "      <td>0</td>\n",
       "      <td>0</td>\n",
       "      <td>0</td>\n",
       "      <td>...</td>\n",
       "      <td>0</td>\n",
       "      <td>0</td>\n",
       "      <td>1</td>\n",
       "      <td>0</td>\n",
       "      <td>0</td>\n",
       "      <td>0</td>\n",
       "      <td>0</td>\n",
       "      <td>0</td>\n",
       "      <td>1</td>\n",
       "      <td>0</td>\n",
       "    </tr>\n",
       "  </tbody>\n",
       "</table>\n",
       "<p>5 rows × 44 columns</p>\n",
       "</div>"
      ],
      "text/plain": [
       "   Cust_num  age  balance  day  duration  campaign  pdays  previous  \\\n",
       "0         1   58     2143    5       261         1     -1         0   \n",
       "1         2   44       29    5       151         1     -1         0   \n",
       "2         3   33        2    5        76         1     -1         0   \n",
       "3         4   47     1506    5        92         1     -1         0   \n",
       "4         5   33        1    5       198         1     -1         0   \n",
       "\n",
       "   job_blue-collar  job_entrepreneur  ...    month_jun  month_mar  month_may  \\\n",
       "0                0                 0  ...            0          0          1   \n",
       "1                0                 0  ...            0          0          1   \n",
       "2                0                 1  ...            0          0          1   \n",
       "3                1                 0  ...            0          0          1   \n",
       "4                0                 0  ...            0          0          1   \n",
       "\n",
       "   month_nov  month_oct  month_sep  poutcome_other  poutcome_success  \\\n",
       "0          0          0          0               0                 0   \n",
       "1          0          0          0               0                 0   \n",
       "2          0          0          0               0                 0   \n",
       "3          0          0          0               0                 0   \n",
       "4          0          0          0               0                 0   \n",
       "\n",
       "   poutcome_unknown  y_yes  \n",
       "0                 1      0  \n",
       "1                 1      0  \n",
       "2                 1      0  \n",
       "3                 1      0  \n",
       "4                 1      0  \n",
       "\n",
       "[5 rows x 44 columns]"
      ]
     },
     "execution_count": 5,
     "metadata": {},
     "output_type": "execute_result"
    }
   ],
   "source": [
    "df_encoded = pd.get_dummies(data, drop_first=True,)\n",
    "df_encoded.head()"
   ]
  },
  {
   "cell_type": "markdown",
   "metadata": {},
   "source": [
    "After we encode the data,we do oversampaling as well as a tranformation process.\n",
    "\n",
    "+ We oversample the data since there is an imbalance in the distribution of data in the independent variable\n",
    "\n",
    "+ We transform the so that each and every variable are measurred in the same units or to make sure each and every features are of same scale\n",
    "\n"
   ]
  },
  {
   "cell_type": "code",
   "execution_count": 6,
   "metadata": {
    "collapsed": true
   },
   "outputs": [],
   "source": [
    "sm = SMOTE(random_state=42)\n",
    "X=df_encoded[['Cust_num', 'age', 'balance', 'day', 'duration', 'campaign', 'pdays',\n",
    "       'previous', 'job_blue-collar', 'job_entrepreneur', 'job_housemaid',\n",
    "       'job_management', 'job_retired', 'job_self-employed', 'job_services',\n",
    "       'job_student', 'job_technician', 'job_unemployed', 'job_unknown',\n",
    "       'marital_married', 'marital_single', 'education_secondary',\n",
    "       'education_tertiary', 'education_unknown', 'default_yes', 'housing_yes',\n",
    "       'loan_yes', 'contact_telephone', 'contact_unknown', 'month_aug',\n",
    "       'month_dec', 'month_feb', 'month_jan', 'month_jul', 'month_jun',\n",
    "       'month_mar', 'month_may', 'month_nov', 'month_oct', 'month_sep',\n",
    "       'poutcome_other', 'poutcome_success', 'poutcome_unknown']]\n",
    "y=df_encoded[['y_yes']]\n",
    "X_res, y = sm.fit_sample(X, y)\n",
    "scaler = StandardScaler().fit(X)\n",
    "X = scaler.transform(X_res)"
   ]
  },
  {
   "cell_type": "code",
   "execution_count": 7,
   "metadata": {},
   "outputs": [
    {
     "data": {
      "text/plain": [
       "(45211, 44)"
      ]
     },
     "execution_count": 7,
     "metadata": {},
     "output_type": "execute_result"
    }
   ],
   "source": [
    "df_encoded.shape\n"
   ]
  },
  {
   "cell_type": "markdown",
   "metadata": {},
   "source": [
    "In keras the Deep layered architecture is built using layers .Each layered is stacked on top of each other.Stacking a layer on top of another can be done using the **.add()** function .We can specify the activation fucntion for each layer in the add function .The inputs can be of any dimensions it can also be specified by **None** if one doesn't know .But it is mandatory to know the input number of the first layer"
   ]
  },
  {
   "cell_type": "code",
   "execution_count": 8,
   "metadata": {
    "collapsed": true
   },
   "outputs": [],
   "source": [
    "model=Sequential()\n",
    "model.add(Dense(60 ,input_dim=43, activation='relu'))\n",
    "model.add(Dense(20, activation='relu'))\n",
    "model.add(Dense(15, activation='relu'))\n",
    "model.add(Dense(1, activation='sigmoid'))\n",
    "model.compile(loss='binary_crossentropy', optimizer='adam', metrics=['accuracy'])"
   ]
  },
  {
   "cell_type": "markdown",
   "metadata": {},
   "source": [
    "Why use relu activation instead of traditional sigmoid function .Let us see in the below example\n",
    "```python  \n",
    "\n",
    "from keras.models import Sequential\n",
    "from keras.layers.core import Dense, Activation\n",
    "from keras.optimizers import SGD\n",
    "import numpy as np\n",
    "\n",
    "np.random.seed(100)\n",
    "\n",
    "model = Sequential()\n",
    "model.add(Dense(2, input_dim=2))\n",
    "model.add(Activation('tanh'))\n",
    "model.add(Dense(1, input_dim=2))\n",
    "model.add(Activation('sigmoid'))\n",
    "X = np.array([[0,0],[0,1],[1,0],[1,1]], \"float32\")\n",
    "y = np.array([[0],[1],[1],[0]], \"float32\")\n",
    "model.compile(loss='binary_crossentropy', optimizer='adam')\n",
    "model.fit(X, y, nb_epoch=30000, batch_size=1,verbose=1)\n",
    "\n",
    "print(model.predict_classes(X))```\n",
    "\n",
    "The above is a simple model which is used to train the model to recognize XOR function the output for the above function is \n",
    "```python \n",
    "4/4 [==============================] - 0s - loss: 0.3481     \n",
    "Epoch 29997/30000\n",
    "4/4 [==============================] - 0s - loss: 0.3481     \n",
    "Epoch 29998/30000\n",
    "4/4 [==============================] - 0s - loss: 0.3481     \n",
    "Epoch 29999/30000\n",
    "4/4 [==============================] - 0s - loss: 0.3481     \n",
    "Epoch 30000/30000\n",
    "4/4 [==============================] - 0s\n",
    "\n",
    "    [[0]\n",
    "     [1]\n",
    "     [0]\n",
    "     [0]]\n",
    " ```\n",
    " \n",
    " Why is this happening for a simple problem ?\n",
    "   This is due to **vanishing gradient** .Vanishing Gradient Problem is a difficulty found in training certain Artificial Neural Networks with gradient based methods (e.g Back Propagation). In particular, this problem makes it really hard to learn and tune the parameters of the earlier layers in the network. This problem becomes worse as the number of layers in the architecture increases.\n",
    "We can avoid this problem by using activation functions which don't have this property of 'squashing' the input space into a small region. A popular choice was **Rectified Linear Unit** which maps xx to max(0,x)max(0,x)."
   ]
  },
  {
   "cell_type": "markdown",
   "metadata": {},
   "source": [
    "We can know the property of the model by using **.summary()** "
   ]
  },
  {
   "cell_type": "code",
   "execution_count": 9,
   "metadata": {},
   "outputs": [
    {
     "name": "stdout",
     "output_type": "stream",
     "text": [
      "_________________________________________________________________\n",
      "Layer (type)                 Output Shape              Param #   \n",
      "=================================================================\n",
      "dense_1 (Dense)              (None, 60)                2640      \n",
      "_________________________________________________________________\n",
      "dense_2 (Dense)              (None, 20)                1220      \n",
      "_________________________________________________________________\n",
      "dense_3 (Dense)              (None, 15)                315       \n",
      "_________________________________________________________________\n",
      "dense_4 (Dense)              (None, 1)                 16        \n",
      "=================================================================\n",
      "Total params: 4,191\n",
      "Trainable params: 4,191\n",
      "Non-trainable params: 0\n",
      "_________________________________________________________________\n"
     ]
    }
   ],
   "source": [
    "model.summary()"
   ]
  },
  {
   "cell_type": "markdown",
   "metadata": {},
   "source": [
    "Next we fit the model with the data. It trains the model for a fixed number of epochs."
   ]
  },
  {
   "cell_type": "code",
   "execution_count": 10,
   "metadata": {},
   "outputs": [
    {
     "name": "stdout",
     "output_type": "stream",
     "text": [
      "Epoch 1/80\n",
      "79844/79844 [==============================] - 6s - loss: 0.2770 - acc: 0.8885     \n",
      "Epoch 2/80\n",
      "79844/79844 [==============================] - 4s - loss: 0.2199 - acc: 0.9136     \n",
      "Epoch 3/80\n",
      "79844/79844 [==============================] - 5s - loss: 0.1979 - acc: 0.9225     \n",
      "Epoch 4/80\n",
      "79844/79844 [==============================] - 6s - loss: 0.1826 - acc: 0.9263     \n",
      "Epoch 5/80\n",
      "79844/79844 [==============================] - 6s - loss: 0.1722 - acc: 0.9296     \n",
      "Epoch 6/80\n",
      "79844/79844 [==============================] - 5s - loss: 0.1650 - acc: 0.9312     \n",
      "Epoch 7/80\n",
      "79844/79844 [==============================] - 6s - loss: 0.1587 - acc: 0.9343     \n",
      "Epoch 8/80\n",
      "79844/79844 [==============================] - 6s - loss: 0.1548 - acc: 0.9358     \n",
      "Epoch 9/80\n",
      "79844/79844 [==============================] - 6s - loss: 0.1506 - acc: 0.9363     \n",
      "Epoch 10/80\n",
      "79844/79844 [==============================] - 5s - loss: 0.1475 - acc: 0.9368     \n",
      "Epoch 11/80\n",
      "79844/79844 [==============================] - 5s - loss: 0.1439 - acc: 0.9386     \n",
      "Epoch 12/80\n",
      "79844/79844 [==============================] - 5s - loss: 0.1428 - acc: 0.9392     \n",
      "Epoch 13/80\n",
      "79844/79844 [==============================] - 5s - loss: 0.1400 - acc: 0.9406     \n",
      "Epoch 14/80\n",
      "79844/79844 [==============================] - 5s - loss: 0.1377 - acc: 0.9412     \n",
      "Epoch 15/80\n",
      "79844/79844 [==============================] - 5s - loss: 0.1359 - acc: 0.9424     \n",
      "Epoch 16/80\n",
      "79844/79844 [==============================] - 5s - loss: 0.1329 - acc: 0.9438     - ETA: 2s - loss: 0.1331 \n",
      "Epoch 17/80\n",
      "79844/79844 [==============================] - 5s - loss: 0.1329 - acc: 0.9442     \n",
      "Epoch 18/80\n",
      "79844/79844 [==============================] - 5s - loss: 0.1311 - acc: 0.9440     \n",
      "Epoch 19/80\n",
      "79844/79844 [==============================] - 5s - loss: 0.1294 - acc: 0.9448     -\n",
      "Epoch 20/80\n",
      "79844/79844 [==============================] - 5s - loss: 0.1276 - acc: 0.9455     \n",
      "Epoch 21/80\n",
      "79844/79844 [==============================] - 5s - loss: 0.1266 - acc: 0.9466     \n",
      "Epoch 22/80\n",
      "79844/79844 [==============================] - 5s - loss: 0.1255 - acc: 0.9460     \n",
      "Epoch 23/80\n",
      "79844/79844 [==============================] - 5s - loss: 0.1237 - acc: 0.9475     \n",
      "Epoch 24/80\n",
      "79844/79844 [==============================] - 5s - loss: 0.1227 - acc: 0.9476     \n",
      "Epoch 25/80\n",
      "79844/79844 [==============================] - 5s - loss: 0.1221 - acc: 0.9482     \n",
      "Epoch 26/80\n",
      "79844/79844 [==============================] - 5s - loss: 0.1210 - acc: 0.9487     \n",
      "Epoch 27/80\n",
      "79844/79844 [==============================] - 5s - loss: 0.1194 - acc: 0.9495     - ETA: 0s - loss: 0.1\n",
      "Epoch 28/80\n",
      "79844/79844 [==============================] - 5s - loss: 0.1185 - acc: 0.9499     \n",
      "Epoch 29/80\n",
      "79844/79844 [==============================] - 5s - loss: 0.1182 - acc: 0.9496     \n",
      "Epoch 30/80\n",
      "79844/79844 [==============================] - 5s - loss: 0.1162 - acc: 0.9510     \n",
      "Epoch 31/80\n",
      "79844/79844 [==============================] - 5s - loss: 0.1163 - acc: 0.9500     \n",
      "Epoch 32/80\n",
      "79844/79844 [==============================] - 5s - loss: 0.1156 - acc: 0.9512     - ETA: 0s - loss: 0.115\n",
      "Epoch 33/80\n",
      "79844/79844 [==============================] - 5s - loss: 0.1143 - acc: 0.9523     \n",
      "Epoch 34/80\n",
      "79844/79844 [==============================] - 5s - loss: 0.1130 - acc: 0.9521     \n",
      "Epoch 35/80\n",
      "79844/79844 [==============================] - 5s - loss: 0.1124 - acc: 0.9517     \n",
      "Epoch 36/80\n",
      "79844/79844 [==============================] - 5s - loss: 0.1115 - acc: 0.9526     \n",
      "Epoch 37/80\n",
      "79844/79844 [==============================] - 5s - loss: 0.1118 - acc: 0.9530     \n",
      "Epoch 38/80\n",
      "79844/79844 [==============================] - 5s - loss: 0.1101 - acc: 0.9535     \n",
      "Epoch 39/80\n",
      "79844/79844 [==============================] - 5s - loss: 0.1095 - acc: 0.9538     \n",
      "Epoch 40/80\n",
      "79844/79844 [==============================] - 5s - loss: 0.1085 - acc: 0.9538     \n",
      "Epoch 41/80\n",
      "79844/79844 [==============================] - 5s - loss: 0.1083 - acc: 0.9543     \n",
      "Epoch 42/80\n",
      "79844/79844 [==============================] - 5s - loss: 0.1083 - acc: 0.9539     \n",
      "Epoch 43/80\n",
      "79844/79844 [==============================] - 6s - loss: 0.1072 - acc: 0.9543     \n",
      "Epoch 44/80\n",
      "79844/79844 [==============================] - 5s - loss: 0.1077 - acc: 0.9538     \n",
      "Epoch 45/80\n",
      "79844/79844 [==============================] - 5s - loss: 0.1057 - acc: 0.9554     \n",
      "Epoch 46/80\n",
      "79844/79844 [==============================] - 5s - loss: 0.1053 - acc: 0.9554     \n",
      "Epoch 47/80\n",
      "79844/79844 [==============================] - 5s - loss: 0.1051 - acc: 0.9555     \n",
      "Epoch 48/80\n",
      "79844/79844 [==============================] - 5s - loss: 0.1042 - acc: 0.9552     \n",
      "Epoch 49/80\n",
      "79844/79844 [==============================] - 5s - loss: 0.1050 - acc: 0.9558     \n",
      "Epoch 50/80\n",
      "79844/79844 [==============================] - 5s - loss: 0.1038 - acc: 0.9556     \n",
      "Epoch 51/80\n",
      "79844/79844 [==============================] - 5s - loss: 0.1026 - acc: 0.9568     \n",
      "Epoch 52/80\n",
      "79844/79844 [==============================] - 5s - loss: 0.1020 - acc: 0.9572     \n",
      "Epoch 53/80\n",
      "79844/79844 [==============================] - 5s - loss: 0.1032 - acc: 0.9557     \n",
      "Epoch 54/80\n",
      "79844/79844 [==============================] - 5s - loss: 0.1012 - acc: 0.9574     \n",
      "Epoch 55/80\n",
      "79844/79844 [==============================] - 5s - loss: 0.1012 - acc: 0.9577     \n",
      "Epoch 56/80\n",
      "79844/79844 [==============================] - 5s - loss: 0.1007 - acc: 0.9573     \n",
      "Epoch 57/80\n",
      "79844/79844 [==============================] - 5s - loss: 0.0997 - acc: 0.9583     \n",
      "Epoch 58/80\n",
      "79844/79844 [==============================] - 5s - loss: 0.0996 - acc: 0.9575     \n",
      "Epoch 59/80\n",
      "79844/79844 [==============================] - 5s - loss: 0.0987 - acc: 0.9587     - ETA: 1s \n",
      "Epoch 60/80\n",
      "79844/79844 [==============================] - 5s - loss: 0.0994 - acc: 0.9579     \n",
      "Epoch 61/80\n",
      "79844/79844 [==============================] - 5s - loss: 0.0983 - acc: 0.9588     \n",
      "Epoch 62/80\n",
      "79844/79844 [==============================] - 5s - loss: 0.0980 - acc: 0.9592     \n",
      "Epoch 63/80\n",
      "79844/79844 [==============================] - 5s - loss: 0.0984 - acc: 0.9578     \n",
      "Epoch 64/80\n",
      "79844/79844 [==============================] - 5s - loss: 0.0974 - acc: 0.9583     \n",
      "Epoch 65/80\n",
      "79844/79844 [==============================] - 5s - loss: 0.0966 - acc: 0.9591     \n",
      "Epoch 66/80\n",
      "79844/79844 [==============================] - 5s - loss: 0.0963 - acc: 0.9594     \n",
      "Epoch 67/80\n",
      "79844/79844 [==============================] - 5s - loss: 0.0969 - acc: 0.9596     \n",
      "Epoch 68/80\n",
      "79844/79844 [==============================] - 5s - loss: 0.0959 - acc: 0.9599     - ETA: 0s - loss: 0.0\n",
      "Epoch 69/80\n",
      "79844/79844 [==============================] - 5s - loss: 0.0956 - acc: 0.9597     \n",
      "Epoch 70/80\n",
      "79844/79844 [==============================] - 5s - loss: 0.0950 - acc: 0.9599     \n",
      "Epoch 71/80\n",
      "79844/79844 [==============================] - 5s - loss: 0.0948 - acc: 0.9600     \n",
      "Epoch 72/80\n",
      "79844/79844 [==============================] - 5s - loss: 0.0947 - acc: 0.9598     \n",
      "Epoch 73/80\n",
      "79844/79844 [==============================] - 5s - loss: 0.0944 - acc: 0.9596     \n",
      "Epoch 74/80\n",
      "79844/79844 [==============================] - 5s - loss: 0.0941 - acc: 0.9611     \n",
      "Epoch 75/80\n",
      "79844/79844 [==============================] - 5s - loss: 0.0943 - acc: 0.9598     \n",
      "Epoch 76/80\n",
      "79844/79844 [==============================] - 5s - loss: 0.0938 - acc: 0.9610     \n",
      "Epoch 77/80\n",
      "79844/79844 [==============================] - 5s - loss: 0.0931 - acc: 0.9608     \n",
      "Epoch 78/80\n",
      "79844/79844 [==============================] - 5s - loss: 0.0930 - acc: 0.9610     \n",
      "Epoch 79/80\n",
      "79844/79844 [==============================] - 5s - loss: 0.0927 - acc: 0.9606     \n",
      "Epoch 80/80\n",
      "79844/79844 [==============================] - 5s - loss: 0.0921 - acc: 0.9616     \n"
     ]
    },
    {
     "data": {
      "text/plain": [
       "<keras.callbacks.History at 0xdadba7eb00>"
      ]
     },
     "execution_count": 10,
     "metadata": {},
     "output_type": "execute_result"
    }
   ],
   "source": [
    "model.fit(X, y,nb_epoch=80)"
   ]
  },
  {
   "cell_type": "markdown",
   "metadata": {},
   "source": [
    "We then evaluate how well the model has done.**evaluate()** Returns the loss value & metrics values for the model in test mode."
   ]
  },
  {
   "cell_type": "code",
   "execution_count": 11,
   "metadata": {},
   "outputs": [
    {
     "name": "stdout",
     "output_type": "stream",
     "text": [
      "78848/79844 [============================>.] - ETA: 0s\n",
      "acc: 96.49%\n"
     ]
    }
   ],
   "source": [
    "# evaluate the model\n",
    "scores = model.evaluate(X, y)\n",
    "print(\"\\n%s: %.2f%%\" % (model.metrics_names[1], scores[1]*100))"
   ]
  },
  {
   "cell_type": "markdown",
   "metadata": {},
   "source": [
    "In deep layer there is a set of hyperparameters,activation functions,loss functions etc..We can manually go through each and \n",
    "every metric and find the optimal parameters for our model.But this time consuming as well as resource consuming which is why we use gridsearchcv to get the optimal parameters,it uses multithreading technique which allows fast computation"
   ]
  },
  {
   "cell_type": "code",
   "execution_count": 45,
   "metadata": {
    "collapsed": true
   },
   "outputs": [],
   "source": [
    "### takes lot of time(days) to run so if required to run change comment the if condition\n",
    "if 1==0:\n",
    "    def create_model():\n",
    "        from keras.models import Sequential\n",
    "        from keras.layers import Dense, Activation\n",
    "        model.add(Dense(20 ,input_dim=16, activation='relu'))\n",
    "        model.add(Dense(20, activation='relu'))\n",
    "        model.add(Dense(15, activation='relu'))\n",
    "        model.add(Dense(1, activation='sigmoid'))\n",
    "        model.compile(loss='binary_crossentropy', optimizer='adam', metrics=['accuracy'])\n",
    "        return model\n",
    "\n",
    "    model = KerasClassifier(build_fn=create_model)\n",
    "    batch_size = [10, 20, 40, 60, 80, 100]\n",
    "    epochs = [10, 50, 100]\n",
    "    optimizer = ['SGD', 'RMSprop', 'Adagrad', 'Adadelta', 'Adam', 'Adamax', 'Nadam']\n",
    "    learn_rate = [0.001, 0.01, 0.1, 0.2, 0.3]\n",
    "    momentum = [0.0, 0.2, 0.4, 0.6, 0.8, 0.9]\n",
    "    init_mode = ['uniform', 'lecun_uniform', 'normal', 'zero', 'glorot_normal', 'glorot_uniform', 'he_normal', 'he_uniform']\n",
    "    activation = ['softmax', 'softplus', 'softsign', 'relu', 'tanh', 'sigmoid', 'hard_sigmoid', 'linear']\n",
    "    weight_constraint = [1, 2, 3, 4, 5]\n",
    "    dropout_rate = [0.0, 0.1, 0.2, 0.3, 0.4, 0.5, 0.6, 0.7, 0.8, 0.9]\n",
    "    neurons = [1, 5, 10, 15, 20, 25, 30]\n",
    "    param_grid = dict(neurons=neurons,dropout_rate=dropout_rate,weight_constraint=weight_constraint,activation=activation,init_mode=init_mode,\n",
    "                      momentum=momentum,learn_rate=learn_rate,optimizer=optimizer,epochs=epochs,batch_size=batch_size)\n",
    "    grid = GridSearchCV(estimator=model, param_grid=param_grid, n_jobs=-1)\n",
    "    grid_result = grid.fit(X, y)"
   ]
  },
  {
   "cell_type": "markdown",
   "metadata": {},
   "source": [
    "# Auto-encoders"
   ]
  },
  {
   "cell_type": "markdown",
   "metadata": {},
   "source": [
    "<img src=\"http://ufldl.stanford.edu/tutorial/images/Autoencoder636.png\">"
   ]
  },
  {
   "cell_type": "markdown",
   "metadata": {},
   "source": [
    "What is an autoencoders?\n",
    "    Autoencoders is a dimension reduction method used to bring a restructure the input.The restructed input is known as vectorized-input.Then again, autoencoders are not a true unsupervised learning technique (which would imply a different learning process altogether), they are a self-supervised technique, a specific instance of supervised learning where the targets are generated from the input data."
   ]
  },
  {
   "cell_type": "code",
   "execution_count": 36,
   "metadata": {
    "collapsed": true
   },
   "outputs": [],
   "source": [
    "encoding_dim = 2\n",
    "input = Input(shape=(43,))\n",
    "x_train,y_train,x_test,y_test=train_test_split(X,y)"
   ]
  },
  {
   "cell_type": "markdown",
   "metadata": {},
   "source": [
    "## Autoencoders with a single fully-connected neural layer as encoder and as decoder:"
   ]
  },
  {
   "cell_type": "code",
   "execution_count": 40,
   "metadata": {},
   "outputs": [
    {
     "name": "stdout",
     "output_type": "stream",
     "text": [
      "_________________________________________________________________\n",
      "Layer (type)                 Output Shape              Param #   \n",
      "=================================================================\n",
      "input_4 (InputLayer)         (None, 43)                0         \n",
      "_________________________________________________________________\n",
      "dense_55 (Dense)             (None, 128)               5632      \n",
      "_________________________________________________________________\n",
      "dense_56 (Dense)             (None, 64)                8256      \n",
      "_________________________________________________________________\n",
      "dense_57 (Dense)             (None, 2)                 130       \n",
      "_________________________________________________________________\n",
      "dense_58 (Dense)             (None, 64)                192       \n",
      "_________________________________________________________________\n",
      "dense_59 (Dense)             (None, 128)               8320      \n",
      "_________________________________________________________________\n",
      "dense_60 (Dense)             (None, 1)                 129       \n",
      "=================================================================\n",
      "Total params: 22,659\n",
      "Trainable params: 22,659\n",
      "Non-trainable params: 0\n",
      "_________________________________________________________________\n"
     ]
    }
   ],
   "source": [
    "encoded = Dense(128, activation='relu')(input)\n",
    "encoded = Dense(64, activation='relu')(encoded)\n",
    "encoder_output = Dense(encoding_dim)(encoded)\n",
    "\n",
    "# decoder layers\n",
    "decoded = Dense(64, activation='relu')(encoder_output)\n",
    "decoded = Dense(128, activation='relu')(decoded)\n",
    "decoded = Dense(1, activation='sigmoid')(decoded)\n",
    "\n",
    "# construct the autoencoder model\n",
    "autoencoder = Model(input=input, output=decoded)\n",
    "\n",
    "# construct the encoder model for plotting\n",
    "encoder = Model(input=input, output=encoder_output)\n",
    "\n",
    "# compile autoencoder\n",
    "autoencoder.compile(optimizer='adam', loss='mse')\n",
    "autoencoder.summary()"
   ]
  },
  {
   "cell_type": "markdown",
   "metadata": {},
   "source": [
    "The above gives a structured how the layers are stacked .Next we fit the model to the model"
   ]
  },
  {
   "cell_type": "code",
   "execution_count": 42,
   "metadata": {},
   "outputs": [
    {
     "name": "stdout",
     "output_type": "stream",
     "text": [
      "Epoch 1/50\n",
      "79844/79844 [==============================] - 1s - loss: 0.0208     \n",
      "Epoch 2/50\n",
      "79844/79844 [==============================] - 1s - loss: 0.0208     \n",
      "Epoch 3/50\n",
      "79844/79844 [==============================] - 1s - loss: 0.0208     \n",
      "Epoch 4/50\n",
      "79844/79844 [==============================] - 1s - loss: 0.0204     \n",
      "Epoch 5/50\n",
      "79844/79844 [==============================] - 1s - loss: 0.0206     \n",
      "Epoch 6/50\n",
      "79844/79844 [==============================] - 1s - loss: 0.0204     \n",
      "Epoch 7/50\n",
      "79844/79844 [==============================] - 2s - loss: 0.0197     \n",
      "Epoch 8/50\n",
      "79844/79844 [==============================] - 2s - loss: 0.0199     \n",
      "Epoch 9/50\n",
      "79844/79844 [==============================] - 1s - loss: 0.0198     \n",
      "Epoch 10/50\n",
      "79844/79844 [==============================] - 1s - loss: 0.0196     \n",
      "Epoch 11/50\n",
      "79844/79844 [==============================] - 1s - loss: 0.0189     \n",
      "Epoch 12/50\n",
      "79844/79844 [==============================] - 1s - loss: 0.0191     \n",
      "Epoch 13/50\n",
      "79844/79844 [==============================] - 2s - loss: 0.0190     \n",
      "Epoch 14/50\n",
      "79844/79844 [==============================] - 2s - loss: 0.0193     \n",
      "Epoch 15/50\n",
      "79844/79844 [==============================] - 2s - loss: 0.0190     \n",
      "Epoch 16/50\n",
      "79844/79844 [==============================] - 2s - loss: 0.0182     \n",
      "Epoch 17/50\n",
      "79844/79844 [==============================] - 2s - loss: 0.0179     \n",
      "Epoch 18/50\n",
      "79844/79844 [==============================] - 2s - loss: 0.0186     \n",
      "Epoch 19/50\n",
      "79844/79844 [==============================] - 2s - loss: 0.0181     \n",
      "Epoch 20/50\n",
      "79844/79844 [==============================] - 2s - loss: 0.0177     \n",
      "Epoch 21/50\n",
      "79844/79844 [==============================] - 2s - loss: 0.0181     \n",
      "Epoch 22/50\n",
      "79844/79844 [==============================] - 2s - loss: 0.0179     \n",
      "Epoch 23/50\n",
      "79844/79844 [==============================] - 2s - loss: 0.0182     \n",
      "Epoch 24/50\n",
      "79844/79844 [==============================] - 2s - loss: 0.0174     \n",
      "Epoch 25/50\n",
      "79844/79844 [==============================] - 2s - loss: 0.0178     \n",
      "Epoch 26/50\n",
      "79844/79844 [==============================] - 2s - loss: 0.0177     \n",
      "Epoch 27/50\n",
      "79844/79844 [==============================] - 2s - loss: 0.0166     \n",
      "Epoch 28/50\n",
      "79844/79844 [==============================] - 2s - loss: 0.0171     \n",
      "Epoch 29/50\n",
      "79844/79844 [==============================] - 2s - loss: 0.0169     \n",
      "Epoch 30/50\n",
      "79844/79844 [==============================] - 2s - loss: 0.0169     \n",
      "Epoch 31/50\n",
      "79844/79844 [==============================] - 2s - loss: 0.0171     \n",
      "Epoch 32/50\n",
      "79844/79844 [==============================] - 2s - loss: 0.0165     \n",
      "Epoch 33/50\n",
      "79844/79844 [==============================] - 2s - loss: 0.0168     \n",
      "Epoch 34/50\n",
      "79844/79844 [==============================] - 2s - loss: 0.0163     \n",
      "Epoch 35/50\n",
      "79844/79844 [==============================] - 1s - loss: 0.0164     \n",
      "Epoch 36/50\n",
      "79844/79844 [==============================] - 1s - loss: 0.0163     \n",
      "Epoch 37/50\n",
      "79844/79844 [==============================] - 1s - loss: 0.0165     \n",
      "Epoch 38/50\n",
      "79844/79844 [==============================] - 1s - loss: 0.0161     \n",
      "Epoch 39/50\n",
      "79844/79844 [==============================] - 1s - loss: 0.0158     \n",
      "Epoch 40/50\n",
      "79844/79844 [==============================] - 1s - loss: 0.0160     \n",
      "Epoch 41/50\n",
      "79844/79844 [==============================] - 1s - loss: 0.0162     \n",
      "Epoch 42/50\n",
      "79844/79844 [==============================] - 1s - loss: 0.0161     \n",
      "Epoch 43/50\n",
      "79844/79844 [==============================] - 1s - loss: 0.0159     \n",
      "Epoch 44/50\n",
      "79844/79844 [==============================] - 1s - loss: 0.0153     \n",
      "Epoch 45/50\n",
      "79844/79844 [==============================] - 1s - loss: 0.0160     \n",
      "Epoch 46/50\n",
      "79844/79844 [==============================] - 1s - loss: 0.0157     \n",
      "Epoch 47/50\n",
      "79844/79844 [==============================] - 2s - loss: 0.0160     \n",
      "Epoch 48/50\n",
      "79844/79844 [==============================] - 1s - loss: 0.0153     \n",
      "Epoch 49/50\n",
      "79844/79844 [==============================] - 1s - loss: 0.0151     \n",
      "Epoch 50/50\n",
      "79844/79844 [==============================] - 1s - loss: 0.0151     \n"
     ]
    },
    {
     "data": {
      "text/plain": [
       "<keras.callbacks.History at 0xdae3c6a080>"
      ]
     },
     "execution_count": 42,
     "metadata": {},
     "output_type": "execute_result"
    }
   ],
   "source": [
    "autoencoder.fit(X, y, epochs=50,\n",
    "                batch_size=256,\n",
    "                shuffle=True,callbacks=[TensorBoard(log_dir='/tmp/autoencoder')])"
   ]
  },
  {
   "cell_type": "markdown",
   "metadata": {},
   "source": [
    "It is evident that loss function is reducing for every epoch it is running for as shown in the below diagram"
   ]
  },
  {
   "cell_type": "markdown",
   "metadata": {
    "collapsed": true
   },
   "source": [
    "<img src=\"http://i.imgur.com/9oHXsLG.png\">"
   ]
  },
  {
   "cell_type": "markdown",
   "metadata": {
    "collapsed": true
   },
   "source": [
    "\n",
    "# END\n"
   ]
  }
 ],
 "metadata": {
  "kernelspec": {
   "display_name": "Python [conda env:tensor]",
   "language": "python",
   "name": "conda-env-tensor-py"
  },
  "language_info": {
   "codemirror_mode": {
    "name": "ipython",
    "version": 3
   },
   "file_extension": ".py",
   "mimetype": "text/x-python",
   "name": "python",
   "nbconvert_exporter": "python",
   "pygments_lexer": "ipython3",
   "version": "3.5.3"
  }
 },
 "nbformat": 4,
 "nbformat_minor": 2
}
