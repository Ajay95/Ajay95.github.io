{
 "cells": [
  {
   "cell_type": "markdown",
   "metadata": {},
   "source": [
    "# Deep Learning Neural Network (DLPNN)"
   ]
  },
  {
   "cell_type": "markdown",
   "metadata": {},
   "source": [
    "##  What is  Deep Learning Neural Network?\n",
    " Artificial Neural Networks, came and mostly went over the decades. Neural Networks are inspired by our understanding of the biology of our brains – all those interconnections between the neurons. But, unlike a biological brain where any neuron can connect to any other neuron within a certain physical distance, these artificial neural networks have discrete layers, connections, and directions of data propagation.\n"
   ]
  },
  {
   "cell_type": "markdown",
   "metadata": {},
   "source": [
    "<img src=\"https://lh6.googleusercontent.com/go2Ohq2TzcMCjBvcCMRjV-jvffq01ZIRaew2mDefJdtQTT9V674ABXp2EcaonoaMf6GYkn8a=w1366-h676\">\n"
   ]
  },
  {
   "cell_type": "markdown",
   "metadata": {},
   "source": [
    "Each Input Neuron is connected to each Output Neuron.The difference between a regular neural network and  MLPNN is that there maybe many hidden layers for a MLPNN which gives the  "
   ]
  },
  {
   "cell_type": "markdown",
   "metadata": {},
   "source": [
    "Dealing with the back propogation and the fast matrix multiplication takes lot of time for which we use some of the frameworks which allows us to build MLPNN easily some of them are "
   ]
  },
  {
   "cell_type": "markdown",
   "metadata": {},
   "source": [
    "<img src=\"https://lh5.googleusercontent.com/OdXXHbGGVyaHUzV8iGmsXlHlYVvGDj4ziSX_9b-TB7XcfLlBF9HigJmeCS2Z4NnTLs8FlSqd1BpxKtA=w1366-h676-rw\">"
   ]
  },
  {
   "cell_type": "markdown",
   "metadata": {},
   "source": [
    "<img src=\"https://lh6.googleusercontent.com/tuh5LncUu_q7mYF8WHrmj9GmMTKe9BMs4nw1czlURao7IEqMN93W6Gf_yvq1jTbA04iVEWRFfhH-JGc=w1366-h676-rw\">"
   ]
  },
  {
   "cell_type": "markdown",
   "metadata": {},
   "source": [
    "<img src=\"https://lh3.googleusercontent.com/J5kcs7o_qF48k18y6lfBVqJHcCQoISOnRqayVGtbiLcpUv0Cy3mVBsbH0kUrLuOdCbnXFfrxdQl9NRM=w1366-h676-rw\">\n"
   ]
  },
  {
   "cell_type": "markdown",
   "metadata": {},
   "source": [
    "<img src=\"https://lh6.googleusercontent.com/w_-6rXlpCELegXCsSmSeftzbX4wXlZFDeq7a3jK2xkeCYjpCJp_tx4Ya7XK0Lwwp6_M_cKf0B5HhiC4=w1366-h676\">"
   ]
  },
  {
   "cell_type": "markdown",
   "metadata": {},
   "source": [
    "## Why keras?\n",
    "\n",
    "#### User friendliness.\n",
    "Keras is an API designed for human beings, not machines. It puts user experience front and center. Keras follows best practices for reducing cognitive load: it offers consistent & simple APIs, it minimizes the number of user actions required for common use cases, and it provides clear and actionable feedback upon user error.\n",
    "\n",
    "#### Modularity. \n",
    "A model is understood as a sequence or a graph of standalone, fully-configurable modules that can be plugged together with as little restrictions as possible. In particular, neural layers, cost functions, optimizers, initialization schemes, activation functions, regularization schemes are all standalone modules that you can combine to create new models.\n",
    "\n",
    "#### Easy extensibility\n",
    "New modules are simple to add (as new classes and functions), and existing modules provide ample examples. To be able to easily create new modules allows for total expressiveness, making Keras suitable for advanced research.\n",
    "\n",
    "#### Work with Python. \n",
    "No separate models configuration files in a declarative format. Models are described in Python code, which is compact, easier to debug, and allows for ease of extensibility.\n",
    "\n",
    "Keras uses either **TensorFlow** or **Theano** for backend process for Tensor manipulation library.Keras is only concerned with modularity as well as the easy use of the framework"
   ]
  },
  {
   "cell_type": "code",
   "execution_count": 48,
   "metadata": {
    "collapsed": true
   },
   "outputs": [],
   "source": [
    "from __future__ import print_function\n",
    "import pandas as pd\n",
    "import numpy as np\n",
    "import matplotlib.pyplot as plt\n",
    "from sklearn.preprocessing import LabelEncoder\n",
    "from sklearn.model_selection import GridSearchCV\n",
    "from sklearn.cross_validation import cross_val_score\n",
    "from imblearn.over_sampling import SMOTE\n",
    "from sklearn.preprocessing import MinMaxScaler\n",
    "from sklearn.preprocessing import StandardScaler\n",
    "from sklearn.model_selection import train_test_split\n",
    "import tensorflow\n",
    "from keras.callbacks import TensorBoard\n",
    "from keras.models import Model\n",
    "from keras.models import Sequential\n",
    "from keras.layers import Dense, Activation,Input\n",
    "from keras.wrappers.scikit_learn import KerasClassifier\n",
    "import warnings \n",
    "warnings.filterwarnings('ignore')\n",
    "%matplotlib inline\n"
   ]
  },
  {
   "cell_type": "code",
   "execution_count": 4,
   "metadata": {
    "collapsed": true
   },
   "outputs": [],
   "source": [
    "data=pd.read_csv(\"bank_market.csv\")\n"
   ]
  },
  {
   "cell_type": "markdown",
   "metadata": {},
   "source": [
    "We encode the data using one-hot encoding .One hot encoding transforms categorical features to a format that works better with  algorithms.Mathematically, one hot encoding produces a balanced matrix, which is easy to understand during complex computations inside algorithms."
   ]
  },
  {
   "cell_type": "code",
   "execution_count": 5,
   "metadata": {},
   "outputs": [
    {
     "data": {
      "text/html": [
       "<div>\n",
       "<style>\n",
       "    .dataframe thead tr:only-child th {\n",
       "        text-align: right;\n",
       "    }\n",
       "\n",
       "    .dataframe thead th {\n",
       "        text-align: left;\n",
       "    }\n",
       "\n",
       "    .dataframe tbody tr th {\n",
       "        vertical-align: top;\n",
       "    }\n",
       "</style>\n",
       "<table border=\"1\" class=\"dataframe\">\n",
       "  <thead>\n",
       "    <tr style=\"text-align: right;\">\n",
       "      <th></th>\n",
       "      <th>Cust_num</th>\n",
       "      <th>age</th>\n",
       "      <th>balance</th>\n",
       "      <th>day</th>\n",
       "      <th>duration</th>\n",
       "      <th>campaign</th>\n",
       "      <th>pdays</th>\n",
       "      <th>previous</th>\n",
       "      <th>job_blue-collar</th>\n",
       "      <th>job_entrepreneur</th>\n",
       "      <th>...</th>\n",
       "      <th>month_jun</th>\n",
       "      <th>month_mar</th>\n",
       "      <th>month_may</th>\n",
       "      <th>month_nov</th>\n",
       "      <th>month_oct</th>\n",
       "      <th>month_sep</th>\n",
       "      <th>poutcome_other</th>\n",
       "      <th>poutcome_success</th>\n",
       "      <th>poutcome_unknown</th>\n",
       "      <th>y_yes</th>\n",
       "    </tr>\n",
       "  </thead>\n",
       "  <tbody>\n",
       "    <tr>\n",
       "      <th>0</th>\n",
       "      <td>1</td>\n",
       "      <td>58</td>\n",
       "      <td>2143</td>\n",
       "      <td>5</td>\n",
       "      <td>261</td>\n",
       "      <td>1</td>\n",
       "      <td>-1</td>\n",
       "      <td>0</td>\n",
       "      <td>0</td>\n",
       "      <td>0</td>\n",
       "      <td>...</td>\n",
       "      <td>0</td>\n",
       "      <td>0</td>\n",
       "      <td>1</td>\n",
       "      <td>0</td>\n",
       "      <td>0</td>\n",
       "      <td>0</td>\n",
       "      <td>0</td>\n",
       "      <td>0</td>\n",
       "      <td>1</td>\n",
       "      <td>0</td>\n",
       "    </tr>\n",
       "    <tr>\n",
       "      <th>1</th>\n",
       "      <td>2</td>\n",
       "      <td>44</td>\n",
       "      <td>29</td>\n",
       "      <td>5</td>\n",
       "      <td>151</td>\n",
       "      <td>1</td>\n",
       "      <td>-1</td>\n",
       "      <td>0</td>\n",
       "      <td>0</td>\n",
       "      <td>0</td>\n",
       "      <td>...</td>\n",
       "      <td>0</td>\n",
       "      <td>0</td>\n",
       "      <td>1</td>\n",
       "      <td>0</td>\n",
       "      <td>0</td>\n",
       "      <td>0</td>\n",
       "      <td>0</td>\n",
       "      <td>0</td>\n",
       "      <td>1</td>\n",
       "      <td>0</td>\n",
       "    </tr>\n",
       "    <tr>\n",
       "      <th>2</th>\n",
       "      <td>3</td>\n",
       "      <td>33</td>\n",
       "      <td>2</td>\n",
       "      <td>5</td>\n",
       "      <td>76</td>\n",
       "      <td>1</td>\n",
       "      <td>-1</td>\n",
       "      <td>0</td>\n",
       "      <td>0</td>\n",
       "      <td>1</td>\n",
       "      <td>...</td>\n",
       "      <td>0</td>\n",
       "      <td>0</td>\n",
       "      <td>1</td>\n",
       "      <td>0</td>\n",
       "      <td>0</td>\n",
       "      <td>0</td>\n",
       "      <td>0</td>\n",
       "      <td>0</td>\n",
       "      <td>1</td>\n",
       "      <td>0</td>\n",
       "    </tr>\n",
       "    <tr>\n",
       "      <th>3</th>\n",
       "      <td>4</td>\n",
       "      <td>47</td>\n",
       "      <td>1506</td>\n",
       "      <td>5</td>\n",
       "      <td>92</td>\n",
       "      <td>1</td>\n",
       "      <td>-1</td>\n",
       "      <td>0</td>\n",
       "      <td>1</td>\n",
       "      <td>0</td>\n",
       "      <td>...</td>\n",
       "      <td>0</td>\n",
       "      <td>0</td>\n",
       "      <td>1</td>\n",
       "      <td>0</td>\n",
       "      <td>0</td>\n",
       "      <td>0</td>\n",
       "      <td>0</td>\n",
       "      <td>0</td>\n",
       "      <td>1</td>\n",
       "      <td>0</td>\n",
       "    </tr>\n",
       "    <tr>\n",
       "      <th>4</th>\n",
       "      <td>5</td>\n",
       "      <td>33</td>\n",
       "      <td>1</td>\n",
       "      <td>5</td>\n",
       "      <td>198</td>\n",
       "      <td>1</td>\n",
       "      <td>-1</td>\n",
       "      <td>0</td>\n",
       "      <td>0</td>\n",
       "      <td>0</td>\n",
       "      <td>...</td>\n",
       "      <td>0</td>\n",
       "      <td>0</td>\n",
       "      <td>1</td>\n",
       "      <td>0</td>\n",
       "      <td>0</td>\n",
       "      <td>0</td>\n",
       "      <td>0</td>\n",
       "      <td>0</td>\n",
       "      <td>1</td>\n",
       "      <td>0</td>\n",
       "    </tr>\n",
       "  </tbody>\n",
       "</table>\n",
       "<p>5 rows × 44 columns</p>\n",
       "</div>"
      ],
      "text/plain": [
       "   Cust_num  age  balance  day  duration  campaign  pdays  previous  \\\n",
       "0         1   58     2143    5       261         1     -1         0   \n",
       "1         2   44       29    5       151         1     -1         0   \n",
       "2         3   33        2    5        76         1     -1         0   \n",
       "3         4   47     1506    5        92         1     -1         0   \n",
       "4         5   33        1    5       198         1     -1         0   \n",
       "\n",
       "   job_blue-collar  job_entrepreneur  ...    month_jun  month_mar  month_may  \\\n",
       "0                0                 0  ...            0          0          1   \n",
       "1                0                 0  ...            0          0          1   \n",
       "2                0                 1  ...            0          0          1   \n",
       "3                1                 0  ...            0          0          1   \n",
       "4                0                 0  ...            0          0          1   \n",
       "\n",
       "   month_nov  month_oct  month_sep  poutcome_other  poutcome_success  \\\n",
       "0          0          0          0               0                 0   \n",
       "1          0          0          0               0                 0   \n",
       "2          0          0          0               0                 0   \n",
       "3          0          0          0               0                 0   \n",
       "4          0          0          0               0                 0   \n",
       "\n",
       "   poutcome_unknown  y_yes  \n",
       "0                 1      0  \n",
       "1                 1      0  \n",
       "2                 1      0  \n",
       "3                 1      0  \n",
       "4                 1      0  \n",
       "\n",
       "[5 rows x 44 columns]"
      ]
     },
     "execution_count": 5,
     "metadata": {},
     "output_type": "execute_result"
    }
   ],
   "source": [
    "df_encoded = pd.get_dummies(data, drop_first=True,)\n",
    "df_encoded.head()"
   ]
  },
  {
   "cell_type": "markdown",
   "metadata": {},
   "source": [
    "After we encode the data,we do oversampaling as well as a tranformation process.\n",
    "\n",
    "+ We oversample the data since there is an imbalance in the distribution of data in the independent variable\n",
    "\n",
    "+ We transform the so that each and every variable are measurred in the same units or to make sure each and every features are of same scale\n",
    "\n"
   ]
  },
  {
   "cell_type": "code",
   "execution_count": 6,
   "metadata": {
    "collapsed": true
   },
   "outputs": [],
   "source": [
    "sm = SMOTE(random_state=42)\n",
    "X=df_encoded[['Cust_num', 'age', 'balance', 'day', 'duration', 'campaign', 'pdays',\n",
    "       'previous', 'job_blue-collar', 'job_entrepreneur', 'job_housemaid',\n",
    "       'job_management', 'job_retired', 'job_self-employed', 'job_services',\n",
    "       'job_student', 'job_technician', 'job_unemployed', 'job_unknown',\n",
    "       'marital_married', 'marital_single', 'education_secondary',\n",
    "       'education_tertiary', 'education_unknown', 'default_yes', 'housing_yes',\n",
    "       'loan_yes', 'contact_telephone', 'contact_unknown', 'month_aug',\n",
    "       'month_dec', 'month_feb', 'month_jan', 'month_jul', 'month_jun',\n",
    "       'month_mar', 'month_may', 'month_nov', 'month_oct', 'month_sep',\n",
    "       'poutcome_other', 'poutcome_success', 'poutcome_unknown']]\n",
    "y=df_encoded[['y_yes']]\n",
    "X_res, y = sm.fit_sample(X, y)\n",
    "scaler = StandardScaler().fit(X)\n",
    "X = scaler.transform(X_res)"
   ]
  },
  {
   "cell_type": "code",
   "execution_count": 7,
   "metadata": {},
   "outputs": [
    {
     "data": {
      "text/plain": [
       "(45211, 44)"
      ]
     },
     "execution_count": 7,
     "metadata": {},
     "output_type": "execute_result"
    }
   ],
   "source": [
    "df_encoded.shape\n"
   ]
  },
  {
   "cell_type": "markdown",
   "metadata": {},
   "source": [
    "In keras the Deep layered architecture is built using layers .Each layered is stacked on top of each other.Stacking a layer on top of another can be done using the **.add()** function .We can specify the activation fucntion for each layer in the add function .The inputs can be of any dimensions it can also be specified by **None** if one doesn't know .But it is mandatory to know the input number of the first layer"
   ]
  },
  {
   "cell_type": "code",
   "execution_count": 8,
   "metadata": {
    "collapsed": true
   },
   "outputs": [],
   "source": [
    "model=Sequential()\n",
    "model.add(Dense(60 ,input_dim=43, activation='relu'))\n",
    "model.add(Dense(20, activation='relu'))\n",
    "model.add(Dense(15, activation='relu'))\n",
    "model.add(Dense(1, activation='sigmoid'))\n",
    "model.compile(loss='binary_crossentropy', optimizer='adam', metrics=['accuracy'])"
   ]
  },
  {
   "cell_type": "markdown",
   "metadata": {},
   "source": [
    "Why use relu activation instead of traditional sigmoid function .Let us see in the below example\n",
    "```python \n",
    "from keras.models import Sequential\n",
    "from keras.layers.core import Dense, Activation\n",
    "from keras.optimizers import SGD\n",
    "import numpy as np\n",
    "\n",
    "np.random.seed(100)\n",
    "\n",
    "model = Sequential()\n",
    "model.add(Dense(2, input_dim=2))\n",
    "model.add(Activation('tanh'))\n",
    "model.add(Dense(1, input_dim=2))\n",
    "model.add(Activation('sigmoid'))\n",
    "X = np.array([[0,0],[0,1],[1,0],[1,1]], \"float32\")\n",
    "y = np.array([[0],[1],[1],[0]], \"float32\")\n",
    "model.compile(loss='binary_crossentropy', optimizer='adam')\n",
    "model.fit(X, y, nb_epoch=30000, batch_size=1,verbose=1)\n",
    "\n",
    "print(model.predict_classes(X))```\n",
    "\n",
    "The above is a simple model which is used to train the model to recognize XOR function the output for the above function is \n",
    "```python \n",
    "4/4 [==============================] - 0s - loss: 0.3481     \n",
    "Epoch 29997/30000\n",
    "4/4 [==============================] - 0s - loss: 0.3481     \n",
    "Epoch 29998/30000\n",
    "4/4 [==============================] - 0s - loss: 0.3481     \n",
    "Epoch 29999/30000\n",
    "4/4 [==============================] - 0s - loss: 0.3481     \n",
    "Epoch 30000/30000\n",
    "4/4 [==============================] - 0s\n",
    "\n",
    "    [[0]\n",
    "     [1]\n",
    "     [0]\n",
    "     [0]]\n",
    " ```\n",
    " \n",
    " Why is this happening for a simple problem ?\n",
    "   This is due to **vanishing gradient** .Vanishing Gradient Problem is a difficulty found in training certain Artificial Neural Networks with gradient based methods (e.g Back Propagation). In particular, this problem makes it really hard to learn and tune the parameters of the earlier layers in the network. This problem becomes worse as the number of layers in the architecture increases.\n",
    "We can avoid this problem by using activation functions which don't have this property of 'squashing' the input space into a small region. A popular choice was **Rectified Linear Unit** which maps xx to max(0,x)max(0,x)."
   ]
  },
  {
   "cell_type": "markdown",
   "metadata": {},
   "source": [
    "We can know the property of the model by using **.summary()** "
   ]
  },
  {
   "cell_type": "code",
   "execution_count": 9,
   "metadata": {},
   "outputs": [
    {
     "name": "stdout",
     "output_type": "stream",
     "text": [
      "_________________________________________________________________\n",
      "Layer (type)                 Output Shape              Param #   \n",
      "=================================================================\n",
      "dense_1 (Dense)              (None, 60)                2640      \n",
      "_________________________________________________________________\n",
      "dense_2 (Dense)              (None, 20)                1220      \n",
      "_________________________________________________________________\n",
      "dense_3 (Dense)              (None, 15)                315       \n",
      "_________________________________________________________________\n",
      "dense_4 (Dense)              (None, 1)                 16        \n",
      "=================================================================\n",
      "Total params: 4,191\n",
      "Trainable params: 4,191\n",
      "Non-trainable params: 0\n",
      "_________________________________________________________________\n"
     ]
    }
   ],
   "source": [
    "model.summary()"
   ]
  },
  {
   "cell_type": "markdown",
   "metadata": {},
   "source": [
    "Next we fit the model with the data. It trains the model for a fixed number of epochs."
   ]
  },
  {
   "cell_type": "code",
   "execution_count": 10,
   "metadata": {},
   "outputs": [
    {
     "name": "stdout",
     "output_type": "stream",
     "text": [
      "Epoch 1/80\n",
      "79844/79844 [==============================] - 6s - loss: 0.2770 - acc: 0.8885     \n",
      "Epoch 2/80\n",
      "79844/79844 [==============================] - 4s - loss: 0.2199 - acc: 0.9136     \n",
      "Epoch 3/80\n",
      "79844/79844 [==============================] - 5s - loss: 0.1979 - acc: 0.9225     \n",
      "Epoch 4/80\n",
      "79844/79844 [==============================] - 6s - loss: 0.1826 - acc: 0.9263     \n",
      "Epoch 5/80\n",
      "79844/79844 [==============================] - 6s - loss: 0.1722 - acc: 0.9296     \n",
      "Epoch 6/80\n",
      "79844/79844 [==============================] - 5s - loss: 0.1650 - acc: 0.9312     \n",
      "Epoch 7/80\n",
      "79844/79844 [==============================] - 6s - loss: 0.1587 - acc: 0.9343     \n",
      "Epoch 8/80\n",
      "79844/79844 [==============================] - 6s - loss: 0.1548 - acc: 0.9358     \n",
      "Epoch 9/80\n",
      "79844/79844 [==============================] - 6s - loss: 0.1506 - acc: 0.9363     \n",
      "Epoch 10/80\n",
      "79844/79844 [==============================] - 5s - loss: 0.1475 - acc: 0.9368     \n",
      "Epoch 11/80\n",
      "79844/79844 [==============================] - 5s - loss: 0.1439 - acc: 0.9386     \n",
      "Epoch 12/80\n",
      "79844/79844 [==============================] - 5s - loss: 0.1428 - acc: 0.9392     \n",
      "Epoch 13/80\n",
      "79844/79844 [==============================] - 5s - loss: 0.1400 - acc: 0.9406     \n",
      "Epoch 14/80\n",
      "79844/79844 [==============================] - 5s - loss: 0.1377 - acc: 0.9412     \n",
      "Epoch 15/80\n",
      "79844/79844 [==============================] - 5s - loss: 0.1359 - acc: 0.9424     \n",
      "Epoch 16/80\n",
      "79844/79844 [==============================] - 5s - loss: 0.1329 - acc: 0.9438     - ETA: 2s - loss: 0.1331 \n",
      "Epoch 17/80\n",
      "79844/79844 [==============================] - 5s - loss: 0.1329 - acc: 0.9442     \n",
      "Epoch 18/80\n",
      "79844/79844 [==============================] - 5s - loss: 0.1311 - acc: 0.9440     \n",
      "Epoch 19/80\n",
      "79844/79844 [==============================] - 5s - loss: 0.1294 - acc: 0.9448     -\n",
      "Epoch 20/80\n",
      "79844/79844 [==============================] - 5s - loss: 0.1276 - acc: 0.9455     \n",
      "Epoch 21/80\n",
      "79844/79844 [==============================] - 5s - loss: 0.1266 - acc: 0.9466     \n",
      "Epoch 22/80\n",
      "79844/79844 [==============================] - 5s - loss: 0.1255 - acc: 0.9460     \n",
      "Epoch 23/80\n",
      "79844/79844 [==============================] - 5s - loss: 0.1237 - acc: 0.9475     \n",
      "Epoch 24/80\n",
      "79844/79844 [==============================] - 5s - loss: 0.1227 - acc: 0.9476     \n",
      "Epoch 25/80\n",
      "79844/79844 [==============================] - 5s - loss: 0.1221 - acc: 0.9482     \n",
      "Epoch 26/80\n",
      "79844/79844 [==============================] - 5s - loss: 0.1210 - acc: 0.9487     \n",
      "Epoch 27/80\n",
      "79844/79844 [==============================] - 5s - loss: 0.1194 - acc: 0.9495     - ETA: 0s - loss: 0.1\n",
      "Epoch 28/80\n",
      "79844/79844 [==============================] - 5s - loss: 0.1185 - acc: 0.9499     \n",
      "Epoch 29/80\n",
      "79844/79844 [==============================] - 5s - loss: 0.1182 - acc: 0.9496     \n",
      "Epoch 30/80\n",
      "79844/79844 [==============================] - 5s - loss: 0.1162 - acc: 0.9510     \n",
      "Epoch 31/80\n",
      "79844/79844 [==============================] - 5s - loss: 0.1163 - acc: 0.9500     \n",
      "Epoch 32/80\n",
      "79844/79844 [==============================] - 5s - loss: 0.1156 - acc: 0.9512     - ETA: 0s - loss: 0.115\n",
      "Epoch 33/80\n",
      "79844/79844 [==============================] - 5s - loss: 0.1143 - acc: 0.9523     \n",
      "Epoch 34/80\n",
      "79844/79844 [==============================] - 5s - loss: 0.1130 - acc: 0.9521     \n",
      "Epoch 35/80\n",
      "79844/79844 [==============================] - 5s - loss: 0.1124 - acc: 0.9517     \n",
      "Epoch 36/80\n",
      "79844/79844 [==============================] - 5s - loss: 0.1115 - acc: 0.9526     \n",
      "Epoch 37/80\n",
      "79844/79844 [==============================] - 5s - loss: 0.1118 - acc: 0.9530     \n",
      "Epoch 38/80\n",
      "79844/79844 [==============================] - 5s - loss: 0.1101 - acc: 0.9535     \n",
      "Epoch 39/80\n",
      "79844/79844 [==============================] - 5s - loss: 0.1095 - acc: 0.9538     \n",
      "Epoch 40/80\n",
      "79844/79844 [==============================] - 5s - loss: 0.1085 - acc: 0.9538     \n",
      "Epoch 41/80\n",
      "79844/79844 [==============================] - 5s - loss: 0.1083 - acc: 0.9543     \n",
      "Epoch 42/80\n",
      "79844/79844 [==============================] - 5s - loss: 0.1083 - acc: 0.9539     \n",
      "Epoch 43/80\n",
      "79844/79844 [==============================] - 6s - loss: 0.1072 - acc: 0.9543     \n",
      "Epoch 44/80\n",
      "79844/79844 [==============================] - 5s - loss: 0.1077 - acc: 0.9538     \n",
      "Epoch 45/80\n",
      "79844/79844 [==============================] - 5s - loss: 0.1057 - acc: 0.9554     \n",
      "Epoch 46/80\n",
      "79844/79844 [==============================] - 5s - loss: 0.1053 - acc: 0.9554     \n",
      "Epoch 47/80\n",
      "79844/79844 [==============================] - 5s - loss: 0.1051 - acc: 0.9555     \n",
      "Epoch 48/80\n",
      "79844/79844 [==============================] - 5s - loss: 0.1042 - acc: 0.9552     \n",
      "Epoch 49/80\n",
      "79844/79844 [==============================] - 5s - loss: 0.1050 - acc: 0.9558     \n",
      "Epoch 50/80\n",
      "79844/79844 [==============================] - 5s - loss: 0.1038 - acc: 0.9556     \n",
      "Epoch 51/80\n",
      "79844/79844 [==============================] - 5s - loss: 0.1026 - acc: 0.9568     \n",
      "Epoch 52/80\n",
      "79844/79844 [==============================] - 5s - loss: 0.1020 - acc: 0.9572     \n",
      "Epoch 53/80\n",
      "79844/79844 [==============================] - 5s - loss: 0.1032 - acc: 0.9557     \n",
      "Epoch 54/80\n",
      "79844/79844 [==============================] - 5s - loss: 0.1012 - acc: 0.9574     \n",
      "Epoch 55/80\n",
      "79844/79844 [==============================] - 5s - loss: 0.1012 - acc: 0.9577     \n",
      "Epoch 56/80\n",
      "79844/79844 [==============================] - 5s - loss: 0.1007 - acc: 0.9573     \n",
      "Epoch 57/80\n",
      "79844/79844 [==============================] - 5s - loss: 0.0997 - acc: 0.9583     \n",
      "Epoch 58/80\n",
      "79844/79844 [==============================] - 5s - loss: 0.0996 - acc: 0.9575     \n",
      "Epoch 59/80\n",
      "79844/79844 [==============================] - 5s - loss: 0.0987 - acc: 0.9587     - ETA: 1s \n",
      "Epoch 60/80\n",
      "79844/79844 [==============================] - 5s - loss: 0.0994 - acc: 0.9579     \n",
      "Epoch 61/80\n",
      "79844/79844 [==============================] - 5s - loss: 0.0983 - acc: 0.9588     \n",
      "Epoch 62/80\n",
      "79844/79844 [==============================] - 5s - loss: 0.0980 - acc: 0.9592     \n",
      "Epoch 63/80\n",
      "79844/79844 [==============================] - 5s - loss: 0.0984 - acc: 0.9578     \n",
      "Epoch 64/80\n",
      "79844/79844 [==============================] - 5s - loss: 0.0974 - acc: 0.9583     \n",
      "Epoch 65/80\n",
      "79844/79844 [==============================] - 5s - loss: 0.0966 - acc: 0.9591     \n",
      "Epoch 66/80\n",
      "79844/79844 [==============================] - 5s - loss: 0.0963 - acc: 0.9594     \n",
      "Epoch 67/80\n",
      "79844/79844 [==============================] - 5s - loss: 0.0969 - acc: 0.9596     \n",
      "Epoch 68/80\n",
      "79844/79844 [==============================] - 5s - loss: 0.0959 - acc: 0.9599     - ETA: 0s - loss: 0.0\n",
      "Epoch 69/80\n",
      "79844/79844 [==============================] - 5s - loss: 0.0956 - acc: 0.9597     \n",
      "Epoch 70/80\n",
      "79844/79844 [==============================] - 5s - loss: 0.0950 - acc: 0.9599     \n",
      "Epoch 71/80\n",
      "79844/79844 [==============================] - 5s - loss: 0.0948 - acc: 0.9600     \n",
      "Epoch 72/80\n",
      "79844/79844 [==============================] - 5s - loss: 0.0947 - acc: 0.9598     \n",
      "Epoch 73/80\n",
      "79844/79844 [==============================] - 5s - loss: 0.0944 - acc: 0.9596     \n",
      "Epoch 74/80\n",
      "79844/79844 [==============================] - 5s - loss: 0.0941 - acc: 0.9611     \n",
      "Epoch 75/80\n",
      "79844/79844 [==============================] - 5s - loss: 0.0943 - acc: 0.9598     \n",
      "Epoch 76/80\n",
      "79844/79844 [==============================] - 5s - loss: 0.0938 - acc: 0.9610     \n",
      "Epoch 77/80\n",
      "79844/79844 [==============================] - 5s - loss: 0.0931 - acc: 0.9608     \n",
      "Epoch 78/80\n",
      "79844/79844 [==============================] - 5s - loss: 0.0930 - acc: 0.9610     \n",
      "Epoch 79/80\n",
      "79844/79844 [==============================] - 5s - loss: 0.0927 - acc: 0.9606     \n",
      "Epoch 80/80\n",
      "79844/79844 [==============================] - 5s - loss: 0.0921 - acc: 0.9616     \n"
     ]
    },
    {
     "data": {
      "text/plain": [
       "<keras.callbacks.History at 0xdadba7eb00>"
      ]
     },
     "execution_count": 10,
     "metadata": {},
     "output_type": "execute_result"
    }
   ],
   "source": [
    "model.fit(X, y,nb_epoch=80)"
   ]
  },
  {
   "cell_type": "markdown",
   "metadata": {},
   "source": [
    "We then evaluate how well the model has done.**evaluate()** Returns the loss value & metrics values for the model in test mode."
   ]
  },
  {
   "cell_type": "code",
   "execution_count": 11,
   "metadata": {},
   "outputs": [
    {
     "name": "stdout",
     "output_type": "stream",
     "text": [
      "78848/79844 [============================>.] - ETA: 0s\n",
      "acc: 96.49%\n"
     ]
    }
   ],
   "source": [
    "# evaluate the model\n",
    "scores = model.evaluate(X, y)\n",
    "print(\"\\n%s: %.2f%%\" % (model.metrics_names[1], scores[1]*100))"
   ]
  },
  {
   "cell_type": "markdown",
   "metadata": {},
   "source": [
    "In deep layer there is a set of hyperparameters,activation functions,loss functions etc..We can manually go through each and \n",
    "every metric and find the optimal parameters for our model.But this time consuming as well as resource consuming which is why we use gridsearchcv to get the optimal parameters,it uses multithreading technique which allows fast computation"
   ]
  },
  {
   "cell_type": "code",
   "execution_count": 45,
   "metadata": {
    "collapsed": true
   },
   "outputs": [],
   "source": [
    "### takes lot of time(days) to run so if required to run change comment the if condition\n",
    "if 1==0:\n",
    "    def create_model():\n",
    "        from keras.models import Sequential\n",
    "        from keras.layers import Dense, Activation\n",
    "        model.add(Dense(20 ,input_dim=16, activation='relu'))\n",
    "        model.add(Dense(20, activation='relu'))\n",
    "        model.add(Dense(15, activation='relu'))\n",
    "        model.add(Dense(1, activation='sigmoid'))\n",
    "        model.compile(loss='binary_crossentropy', optimizer='adam', metrics=['accuracy'])\n",
    "        return model\n",
    "\n",
    "    model = KerasClassifier(build_fn=create_model)\n",
    "    batch_size = [10, 20, 40, 60, 80, 100]\n",
    "    epochs = [10, 50, 100]\n",
    "    optimizer = ['SGD', 'RMSprop', 'Adagrad', 'Adadelta', 'Adam', 'Adamax', 'Nadam']\n",
    "    learn_rate = [0.001, 0.01, 0.1, 0.2, 0.3]\n",
    "    momentum = [0.0, 0.2, 0.4, 0.6, 0.8, 0.9]\n",
    "    init_mode = ['uniform', 'lecun_uniform', 'normal', 'zero', 'glorot_normal', 'glorot_uniform', 'he_normal', 'he_uniform']\n",
    "    activation = ['softmax', 'softplus', 'softsign', 'relu', 'tanh', 'sigmoid', 'hard_sigmoid', 'linear']\n",
    "    weight_constraint = [1, 2, 3, 4, 5]\n",
    "    dropout_rate = [0.0, 0.1, 0.2, 0.3, 0.4, 0.5, 0.6, 0.7, 0.8, 0.9]\n",
    "    neurons = [1, 5, 10, 15, 20, 25, 30]\n",
    "    param_grid = dict(neurons=neurons,dropout_rate=dropout_rate,weight_constraint=weight_constraint,activation=activation,init_mode=init_mode,\n",
    "                      momentum=momentum,learn_rate=learn_rate,optimizer=optimizer,epochs=epochs,batch_size=batch_size)\n",
    "    grid = GridSearchCV(estimator=model, param_grid=param_grid, n_jobs=-1)\n",
    "    grid_result = grid.fit(X, y)"
   ]
  },
  {
   "cell_type": "markdown",
   "metadata": {},
   "source": [
    "# Auto-encoders"
   ]
  },
  {
   "cell_type": "markdown",
   "metadata": {},
   "source": [
    "<img src=\"https://lh4.googleusercontent.com/CaDIs1xnbQ0KNPJXTv_QCBshN9BcDBIVP7jurLi8P2UwaOkPtz1kuwCh8Ey9vLZSDWIMTdqHhajr510=w1366-h676\">"
   ]
  },
  {
   "cell_type": "markdown",
   "metadata": {},
   "source": [
    "What is an autoencoders?\n",
    "    Autoencoders is a dimension reduction method used to bring a restructure the input.The restructed input is known as vectorized-input.Then again, autoencoders are not a true unsupervised learning technique (which would imply a different learning process altogether), they are a self-supervised technique, a specific instance of supervised learning where the targets are generated from the input data."
   ]
  },
  {
   "cell_type": "code",
   "execution_count": 36,
   "metadata": {
    "collapsed": true
   },
   "outputs": [],
   "source": [
    "encoding_dim = 2\n",
    "input = Input(shape=(43,))\n",
    "x_train,y_train,x_test,y_test=train_test_split(X,y)"
   ]
  },
  {
   "cell_type": "markdown",
   "metadata": {},
   "source": [
    "## Autoencoders with a single fully-connected neural layer as encoder and as decoder:"
   ]
  },
  {
   "cell_type": "code",
   "execution_count": 40,
   "metadata": {},
   "outputs": [
    {
     "name": "stdout",
     "output_type": "stream",
     "text": [
      "_________________________________________________________________\n",
      "Layer (type)                 Output Shape              Param #   \n",
      "=================================================================\n",
      "input_4 (InputLayer)         (None, 43)                0         \n",
      "_________________________________________________________________\n",
      "dense_55 (Dense)             (None, 128)               5632      \n",
      "_________________________________________________________________\n",
      "dense_56 (Dense)             (None, 64)                8256      \n",
      "_________________________________________________________________\n",
      "dense_57 (Dense)             (None, 2)                 130       \n",
      "_________________________________________________________________\n",
      "dense_58 (Dense)             (None, 64)                192       \n",
      "_________________________________________________________________\n",
      "dense_59 (Dense)             (None, 128)               8320      \n",
      "_________________________________________________________________\n",
      "dense_60 (Dense)             (None, 1)                 129       \n",
      "=================================================================\n",
      "Total params: 22,659\n",
      "Trainable params: 22,659\n",
      "Non-trainable params: 0\n",
      "_________________________________________________________________\n"
     ]
    }
   ],
   "source": [
    "encoded = Dense(128, activation='relu')(input)\n",
    "encoded = Dense(64, activation='relu')(encoded)\n",
    "encoder_output = Dense(encoding_dim)(encoded)\n",
    "\n",
    "# decoder layers\n",
    "decoded = Dense(64, activation='relu')(encoder_output)\n",
    "decoded = Dense(128, activation='relu')(decoded)\n",
    "decoded = Dense(1, activation='sigmoid')(decoded)\n",
    "\n",
    "# construct the autoencoder model\n",
    "autoencoder = Model(input=input, output=decoded)\n",
    "\n",
    "# construct the encoder model for plotting\n",
    "encoder = Model(input=input, output=encoder_output)\n",
    "\n",
    "# compile autoencoder\n",
    "autoencoder.compile(optimizer='adam', loss='mse')\n",
    "autoencoder.summary()"
   ]
  },
  {
   "cell_type": "markdown",
   "metadata": {},
   "source": [
    "The above gives a structured how the layers are stacked .Next we fit the model to the model"
   ]
  },
  {
   "cell_type": "code",
   "execution_count": 42,
   "metadata": {},
   "outputs": [
    {
     "name": "stdout",
     "output_type": "stream",
     "text": [
      "Epoch 1/50\n",
      "79844/79844 [==============================] - 1s - loss: 0.0208     \n",
      "Epoch 2/50\n",
      "79844/79844 [==============================] - 1s - loss: 0.0208     \n",
      "Epoch 3/50\n",
      "79844/79844 [==============================] - 1s - loss: 0.0208     \n",
      "Epoch 4/50\n",
      "79844/79844 [==============================] - 1s - loss: 0.0204     \n",
      "Epoch 5/50\n",
      "79844/79844 [==============================] - 1s - loss: 0.0206     \n",
      "Epoch 6/50\n",
      "79844/79844 [==============================] - 1s - loss: 0.0204     \n",
      "Epoch 7/50\n",
      "79844/79844 [==============================] - 2s - loss: 0.0197     \n",
      "Epoch 8/50\n",
      "79844/79844 [==============================] - 2s - loss: 0.0199     \n",
      "Epoch 9/50\n",
      "79844/79844 [==============================] - 1s - loss: 0.0198     \n",
      "Epoch 10/50\n",
      "79844/79844 [==============================] - 1s - loss: 0.0196     \n",
      "Epoch 11/50\n",
      "79844/79844 [==============================] - 1s - loss: 0.0189     \n",
      "Epoch 12/50\n",
      "79844/79844 [==============================] - 1s - loss: 0.0191     \n",
      "Epoch 13/50\n",
      "79844/79844 [==============================] - 2s - loss: 0.0190     \n",
      "Epoch 14/50\n",
      "79844/79844 [==============================] - 2s - loss: 0.0193     \n",
      "Epoch 15/50\n",
      "79844/79844 [==============================] - 2s - loss: 0.0190     \n",
      "Epoch 16/50\n",
      "79844/79844 [==============================] - 2s - loss: 0.0182     \n",
      "Epoch 17/50\n",
      "79844/79844 [==============================] - 2s - loss: 0.0179     \n",
      "Epoch 18/50\n",
      "79844/79844 [==============================] - 2s - loss: 0.0186     \n",
      "Epoch 19/50\n",
      "79844/79844 [==============================] - 2s - loss: 0.0181     \n",
      "Epoch 20/50\n",
      "79844/79844 [==============================] - 2s - loss: 0.0177     \n",
      "Epoch 21/50\n",
      "79844/79844 [==============================] - 2s - loss: 0.0181     \n",
      "Epoch 22/50\n",
      "79844/79844 [==============================] - 2s - loss: 0.0179     \n",
      "Epoch 23/50\n",
      "79844/79844 [==============================] - 2s - loss: 0.0182     \n",
      "Epoch 24/50\n",
      "79844/79844 [==============================] - 2s - loss: 0.0174     \n",
      "Epoch 25/50\n",
      "79844/79844 [==============================] - 2s - loss: 0.0178     \n",
      "Epoch 26/50\n",
      "79844/79844 [==============================] - 2s - loss: 0.0177     \n",
      "Epoch 27/50\n",
      "79844/79844 [==============================] - 2s - loss: 0.0166     \n",
      "Epoch 28/50\n",
      "79844/79844 [==============================] - 2s - loss: 0.0171     \n",
      "Epoch 29/50\n",
      "79844/79844 [==============================] - 2s - loss: 0.0169     \n",
      "Epoch 30/50\n",
      "79844/79844 [==============================] - 2s - loss: 0.0169     \n",
      "Epoch 31/50\n",
      "79844/79844 [==============================] - 2s - loss: 0.0171     \n",
      "Epoch 32/50\n",
      "79844/79844 [==============================] - 2s - loss: 0.0165     \n",
      "Epoch 33/50\n",
      "79844/79844 [==============================] - 2s - loss: 0.0168     \n",
      "Epoch 34/50\n",
      "79844/79844 [==============================] - 2s - loss: 0.0163     \n",
      "Epoch 35/50\n",
      "79844/79844 [==============================] - 1s - loss: 0.0164     \n",
      "Epoch 36/50\n",
      "79844/79844 [==============================] - 1s - loss: 0.0163     \n",
      "Epoch 37/50\n",
      "79844/79844 [==============================] - 1s - loss: 0.0165     \n",
      "Epoch 38/50\n",
      "79844/79844 [==============================] - 1s - loss: 0.0161     \n",
      "Epoch 39/50\n",
      "79844/79844 [==============================] - 1s - loss: 0.0158     \n",
      "Epoch 40/50\n",
      "79844/79844 [==============================] - 1s - loss: 0.0160     \n",
      "Epoch 41/50\n",
      "79844/79844 [==============================] - 1s - loss: 0.0162     \n",
      "Epoch 42/50\n",
      "79844/79844 [==============================] - 1s - loss: 0.0161     \n",
      "Epoch 43/50\n",
      "79844/79844 [==============================] - 1s - loss: 0.0159     \n",
      "Epoch 44/50\n",
      "79844/79844 [==============================] - 1s - loss: 0.0153     \n",
      "Epoch 45/50\n",
      "79844/79844 [==============================] - 1s - loss: 0.0160     \n",
      "Epoch 46/50\n",
      "79844/79844 [==============================] - 1s - loss: 0.0157     \n",
      "Epoch 47/50\n",
      "79844/79844 [==============================] - 2s - loss: 0.0160     \n",
      "Epoch 48/50\n",
      "79844/79844 [==============================] - 1s - loss: 0.0153     \n",
      "Epoch 49/50\n",
      "79844/79844 [==============================] - 1s - loss: 0.0151     \n",
      "Epoch 50/50\n",
      "79844/79844 [==============================] - 1s - loss: 0.0151     \n"
     ]
    },
    {
     "data": {
      "text/plain": [
       "<keras.callbacks.History at 0xdae3c6a080>"
      ]
     },
     "execution_count": 42,
     "metadata": {},
     "output_type": "execute_result"
    }
   ],
   "source": [
    "autoencoder.fit(X, y, epochs=50,\n",
    "                batch_size=256,\n",
    "                shuffle=True,callbacks=[TensorBoard(log_dir='/tmp/autoencoder')])"
   ]
  },
  {
   "cell_type": "markdown",
   "metadata": {},
   "source": [
    "It is evident that loss function is reducing for every epoch it is running for as shown in the below diagram"
   ]
  },
  {
   "cell_type": "markdown",
   "metadata": {
    "collapsed": true
   },
   "source": [
    "<img src=\"http://i.imgur.com/9oHXsLG.png\">"
   ]
  },
  {
   "cell_type": "markdown",
   "metadata": {
    "collapsed": true
   },
   "source": [
    "\n",
    "# END\n"
   ]
  }
 ],
 "metadata": {
  "kernelspec": {
   "display_name": "Python [conda env:tensor]",
   "language": "python",
   "name": "conda-env-tensor-py"
  },
  "language_info": {
   "codemirror_mode": {
    "name": "ipython",
    "version": 3
   },
   "file_extension": ".py",
   "mimetype": "text/x-python",
   "name": "python",
   "nbconvert_exporter": "python",
   "pygments_lexer": "ipython3",
   "version": "3.5.3"
  }
 },
 "nbformat": 4,
 "nbformat_minor": 2
}
