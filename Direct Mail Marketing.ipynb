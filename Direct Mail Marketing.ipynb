{
 "cells": [
  {
   "cell_type": "markdown",
   "metadata": {},
   "source": [
    "Contents:\n",
    "===\n",
    "<ol>\n",
    "<li><b>Business model</b></li>\n",
    "<li><b>Problem Statement</b></li>\n",
    "<li><b>Data Exploration</b></li>\n",
    "<li><b>Data Cleaning</b></li>\n",
    "<li><b>Model Building</b></li>\n",
    "<li><b>Validation</b></li>\n",
    "</ol>\n"
   ]
  },
  {
   "cell_type": "markdown",
   "metadata": {},
   "source": [
    "Business model\n",
    "==="
   ]
  },
  {
   "cell_type": "markdown",
   "metadata": {},
   "source": [
    "Direct mail is a form of direct marketing in which businesses send letters, postcards or other promotional materials to past, current or potential customers or clients. Direct mail campaigns may be targeted to either a consumer or business market (or both).  In many cases, the mailing is directed to a target demographic or geographic market. In most cases, it's mass or bulk mailing, but you can send direct mail in smaller quantities as well.\n",
    "\n",
    "Often, people think only in terms of ads when considering direct mail. But there are several different ways a home business could use direct mail to build a home business including:\n",
    "\n",
    "1) Catalog of products and services: Let prospects see everything you have to offer by sending them a catalog or list of what you offer. Consider including a coupon to encourage them to buy.\n",
    "\n",
    "2) Discounts and specials: Instead of just sending a card or letter introducing your product or service, why not include a special deal such as percentage off for first-time customers? People like a good deal and it's a great way to entice prospects to learn more about your business.\n",
    "\n",
    "3) Useful items or tips: Realtors often send their clients and customers calendars and recipes. People who receive these items will keep them because they offer something helpful or useful, and it keeps the realtor's name in their mind because they're reminded of it each time they refer to the calendar or recipe. You can do the same. Just make sure that what you send is something people would want to keep and fits with your business. \n",
    "\n",
    "4) Reminders: Depending on your product or service, it can be beneficial to send your clients and customers reminders. For example, if you have a tax preparation business, you might send reminders out in December about deductions to take before the year ends or something similar. \n",
    "\n",
    "5) Samples: If it's not cost prohibitive, why not send a send a sample of your product or offer a free sample to anyone who responds to your mailing? People like to receive free items and to test products before buying. Sending them a sample gives them both. \n",
    "\n",
    "6) Announcements: If you're launching a new product or service, let your existing clients and customers, and prospects know about it. Again, this would be a good time to include a discount to encourage them to check out the new product or service.\n",
    "\n",
    "7) Newsletter: While email newsletters is the most affordable way to deliver information regularly to your list, print and mail news can be effective as well. Through it you can combine many of the above ideas such as list of products or services, discounts, useful tips, and announcements.\n",
    "\n",
    "<b>Advantages of using a direct mail marketing strategy:</b>\n",
    "\n",
    "1) Effective at getting a response if well-written and targeted.\n",
    "\n",
    "2) Bulk mailing costs less than regular mail.\n",
    "\n",
    "<b>Disadvantages of using direct mail:</b>\n",
    "\n",
    "1) Many consumers throw direct mail items away as \"junk mail.\"\n",
    "\n",
    "2) Costly especially if the mailing doesn't lead to results.\n",
    "\n"
   ]
  },
  {
   "cell_type": "markdown",
   "metadata": {},
   "source": [
    "Problem statement\n",
    "==="
   ]
  },
  {
   "cell_type": "markdown",
   "metadata": {},
   "source": [
    "In this situation, an insurance company needs to come up with a good marketing strategy, so they want to run an e-mail campaign. Before sending the mail to all the available e-mail addresses in storage, they realize that they should first build a predictive model to identify the customers who are most likely to respond.\n",
    "\n",
    "Hence, the problem statement would be to build a prediction model in which, on training the model to detect certain features, should be able to predict how likely any potential customer responds to marketing e-mails sent by the company."
   ]
  },
  {
   "cell_type": "markdown",
   "metadata": {},
   "source": [
    "The model building is being done using the R programming language, due to:\n",
    "\n",
    "1) Being open-source software, allowign anyone to use or modify it.\n",
    "\n",
    "2) Being cross-platform.\n",
    "\n",
    "3) Having a large number of packages for statistical computing.\n",
    "\n",
    "4) Having extensive graphical capabilities.\n",
    "\n",
    "5) Having large number of active user groups.\n"
   ]
  },
  {
   "cell_type": "markdown",
   "metadata": {},
   "source": [
    "Data Exploration\n",
    "==="
   ]
  },
  {
   "cell_type": "markdown",
   "metadata": {},
   "source": [
    "We first import the required input file into the project, using the read.delim() function, so that any delimited input file like a .txt file can be processed. We store this input in an R object named 'direct', to be used throughout the modeling."
   ]
  },
  {
   "cell_type": "code",
   "execution_count": 1,
   "metadata": {
    "collapsed": true
   },
   "outputs": [],
   "source": [
    "direct <- read.delim(\"direct_mail_training.txt\")"
   ]
  },
  {
   "cell_type": "markdown",
   "metadata": {},
   "source": [
    "We then perform some initial operations on the dataset imported."
   ]
  },
  {
   "cell_type": "markdown",
   "metadata": {},
   "source": [
    "We use the str() fucntion. This function compactly displays the internal structure of an R object, giving the viewer a breakdown of the classes of variables in the dataset as well as number of observations. This is well suited to compactly display the abbreviated contents of (possibly nested) lists."
   ]
  },
  {
   "cell_type": "code",
   "execution_count": 2,
   "metadata": {},
   "outputs": [
    {
     "name": "stdout",
     "output_type": "stream",
     "text": [
      "'data.frame':\t29904 obs. of  26 variables:\n",
      " $ AGE    : int  20 18 19 18 18 19 19 20 19 19 ...\n",
      " $ CRED   : int  543 445 423 416 522 467 334 519 480 309 ...\n",
      " $ MS     : Factor w/ 3 levels \"M\",\"U\",\"X\": 2 2 2 3 2 2 3 2 1 2 ...\n",
      " $ HEQ    : num  0.1 0.1 0.1 0.1 0.1 0.1 0.1 0.1 0.1 0.1 ...\n",
      " $ INCOME : int  20 20 20 20 20 20 20 20 20 20 ...\n",
      " $ DEPC   : Factor w/ 2 levels \"N\",\"Y\": 1 1 1 1 2 2 1 1 1 2 ...\n",
      " $ MOB    : Factor w/ 2 levels \"N\",\"Y\": 2 2 1 2 2 1 2 2 2 2 ...\n",
      " $ MILEAGE: num  14.418 0.311 17.876 17.084 16.51 ...\n",
      " $ RESTYPE: Factor w/ 4 levels \"CONDO\",\"COOP\",..: 3 3 3 3 3 3 4 3 4 3 ...\n",
      " $ GENDER : Factor w/ 2 levels \"F\",\"M\": 2 2 2 1 1 1 2 2 2 2 ...\n",
      " $ EMP_STA: Factor w/ 3 levels \"0\",\"1,2\",\"3+\": 2 1 2 2 2 2 2 2 3 2 ...\n",
      " $ RES_STA: Factor w/ 2 levels \"1,2\",\"3+\": 1 1 1 1 1 1 1 1 1 1 ...\n",
      " $ DELINQ : int  0 2 1 0 1 0 0 4 4 0 ...\n",
      " $ NUMTR  : int  2 2 0 0 0 0 1 3 1 0 ...\n",
      " $ MRTGI  : Factor w/ 3 levels \"N\",\"U\",\"Y\": 1 3 3 3 3 3 1 2 1 3 ...\n",
      " $ MFDU   : int  0 0 0 0 0 0 1 0 1 0 ...\n",
      " $ resp   : int  0 0 0 0 0 0 1 0 0 0 ...\n",
      " $ female : int  0 0 0 1 1 1 0 0 0 0 ...\n",
      " $ HOME   : int  1 1 1 1 1 1 0 1 0 1 ...\n",
      " $ CONDO  : int  0 0 0 0 0 0 0 0 0 0 ...\n",
      " $ COOP   : int  0 0 0 0 0 0 0 0 0 0 ...\n",
      " $ renter : int  1 1 1 1 1 1 1 1 1 1 ...\n",
      " $ emp1   : int  1 0 1 1 1 1 1 1 0 1 ...\n",
      " $ emp2   : int  0 0 0 0 0 0 0 0 1 0 ...\n",
      " $ msn    : int  0 0 0 0 0 0 0 0 1 0 ...\n",
      " $ cuscode: int  1 2 3 4 5 6 7 8 9 10 ...\n"
     ]
    }
   ],
   "source": [
    "str(direct)"
   ]
  },
  {
   "cell_type": "markdown",
   "metadata": {},
   "source": [
    "We use the head() and tail() functions to display the first few as well as the last few entries of the dataset."
   ]
  },
  {
   "cell_type": "code",
   "execution_count": 3,
   "metadata": {},
   "outputs": [
    {
     "data": {
      "text/html": [
       "<table>\n",
       "<thead><tr><th scope=col>AGE</th><th scope=col>CRED</th><th scope=col>MS</th><th scope=col>HEQ</th><th scope=col>INCOME</th><th scope=col>DEPC</th><th scope=col>MOB</th><th scope=col>MILEAGE</th><th scope=col>RESTYPE</th><th scope=col>GENDER</th><th scope=col>...</th><th scope=col>resp</th><th scope=col>female</th><th scope=col>HOME</th><th scope=col>CONDO</th><th scope=col>COOP</th><th scope=col>renter</th><th scope=col>emp1</th><th scope=col>emp2</th><th scope=col>msn</th><th scope=col>cuscode</th></tr></thead>\n",
       "<tbody>\n",
       "\t<tr><td>20    </td><td>543   </td><td>U     </td><td>0.1   </td><td>20    </td><td>N     </td><td>Y     </td><td>14.418</td><td>HOME  </td><td>M     </td><td>...   </td><td>0     </td><td>0     </td><td>1     </td><td>0     </td><td>0     </td><td>1     </td><td>1     </td><td>0     </td><td>0     </td><td>1     </td></tr>\n",
       "\t<tr><td>18    </td><td>445   </td><td>U     </td><td>0.1   </td><td>20    </td><td>N     </td><td>Y     </td><td> 0.311</td><td>HOME  </td><td>M     </td><td>...   </td><td>0     </td><td>0     </td><td>1     </td><td>0     </td><td>0     </td><td>1     </td><td>0     </td><td>0     </td><td>0     </td><td>2     </td></tr>\n",
       "\t<tr><td>19    </td><td>423   </td><td>U     </td><td>0.1   </td><td>20    </td><td>N     </td><td>N     </td><td>17.876</td><td>HOME  </td><td>M     </td><td>...   </td><td>0     </td><td>0     </td><td>1     </td><td>0     </td><td>0     </td><td>1     </td><td>1     </td><td>0     </td><td>0     </td><td>3     </td></tr>\n",
       "\t<tr><td>18    </td><td>416   </td><td>X     </td><td>0.1   </td><td>20    </td><td>N     </td><td>Y     </td><td>17.084</td><td>HOME  </td><td>F     </td><td>...   </td><td>0     </td><td>1     </td><td>1     </td><td>0     </td><td>0     </td><td>1     </td><td>1     </td><td>0     </td><td>0     </td><td>4     </td></tr>\n",
       "\t<tr><td>18    </td><td>522   </td><td>U     </td><td>0.1   </td><td>20    </td><td>Y     </td><td>Y     </td><td>16.510</td><td>HOME  </td><td>F     </td><td>...   </td><td>0     </td><td>1     </td><td>1     </td><td>0     </td><td>0     </td><td>1     </td><td>1     </td><td>0     </td><td>0     </td><td>5     </td></tr>\n",
       "\t<tr><td>19    </td><td>467   </td><td>U     </td><td>0.1   </td><td>20    </td><td>Y     </td><td>N     </td><td>16.239</td><td>HOME  </td><td>F     </td><td>...   </td><td>0     </td><td>1     </td><td>1     </td><td>0     </td><td>0     </td><td>1     </td><td>1     </td><td>0     </td><td>0     </td><td>6     </td></tr>\n",
       "</tbody>\n",
       "</table>\n"
      ],
      "text/latex": [
       "\\begin{tabular}{r|llllllllllllllllllllllllll}\n",
       " AGE & CRED & MS & HEQ & INCOME & DEPC & MOB & MILEAGE & RESTYPE & GENDER & ... & resp & female & HOME & CONDO & COOP & renter & emp1 & emp2 & msn & cuscode\\\\\n",
       "\\hline\n",
       "\t 20     & 543    & U      & 0.1    & 20     & N      & Y      & 14.418 & HOME   & M      & ...    & 0      & 0      & 1      & 0      & 0      & 1      & 1      & 0      & 0      & 1     \\\\\n",
       "\t 18     & 445    & U      & 0.1    & 20     & N      & Y      &  0.311 & HOME   & M      & ...    & 0      & 0      & 1      & 0      & 0      & 1      & 0      & 0      & 0      & 2     \\\\\n",
       "\t 19     & 423    & U      & 0.1    & 20     & N      & N      & 17.876 & HOME   & M      & ...    & 0      & 0      & 1      & 0      & 0      & 1      & 1      & 0      & 0      & 3     \\\\\n",
       "\t 18     & 416    & X      & 0.1    & 20     & N      & Y      & 17.084 & HOME   & F      & ...    & 0      & 1      & 1      & 0      & 0      & 1      & 1      & 0      & 0      & 4     \\\\\n",
       "\t 18     & 522    & U      & 0.1    & 20     & Y      & Y      & 16.510 & HOME   & F      & ...    & 0      & 1      & 1      & 0      & 0      & 1      & 1      & 0      & 0      & 5     \\\\\n",
       "\t 19     & 467    & U      & 0.1    & 20     & Y      & N      & 16.239 & HOME   & F      & ...    & 0      & 1      & 1      & 0      & 0      & 1      & 1      & 0      & 0      & 6     \\\\\n",
       "\\end{tabular}\n"
      ],
      "text/markdown": [
       "\n",
       "AGE | CRED | MS | HEQ | INCOME | DEPC | MOB | MILEAGE | RESTYPE | GENDER | ... | resp | female | HOME | CONDO | COOP | renter | emp1 | emp2 | msn | cuscode | \n",
       "|---|---|---|---|---|---|\n",
       "| 20     | 543    | U      | 0.1    | 20     | N      | Y      | 14.418 | HOME   | M      | ...    | 0      | 0      | 1      | 0      | 0      | 1      | 1      | 0      | 0      | 1      | \n",
       "| 18     | 445    | U      | 0.1    | 20     | N      | Y      |  0.311 | HOME   | M      | ...    | 0      | 0      | 1      | 0      | 0      | 1      | 0      | 0      | 0      | 2      | \n",
       "| 19     | 423    | U      | 0.1    | 20     | N      | N      | 17.876 | HOME   | M      | ...    | 0      | 0      | 1      | 0      | 0      | 1      | 1      | 0      | 0      | 3      | \n",
       "| 18     | 416    | X      | 0.1    | 20     | N      | Y      | 17.084 | HOME   | F      | ...    | 0      | 1      | 1      | 0      | 0      | 1      | 1      | 0      | 0      | 4      | \n",
       "| 18     | 522    | U      | 0.1    | 20     | Y      | Y      | 16.510 | HOME   | F      | ...    | 0      | 1      | 1      | 0      | 0      | 1      | 1      | 0      | 0      | 5      | \n",
       "| 19     | 467    | U      | 0.1    | 20     | Y      | N      | 16.239 | HOME   | F      | ...    | 0      | 1      | 1      | 0      | 0      | 1      | 1      | 0      | 0      | 6      | \n",
       "\n",
       "\n"
      ],
      "text/plain": [
       "  AGE CRED MS HEQ INCOME DEPC MOB MILEAGE RESTYPE GENDER ... resp female HOME\n",
       "1 20  543  U  0.1 20     N    Y   14.418  HOME    M      ... 0    0      1   \n",
       "2 18  445  U  0.1 20     N    Y    0.311  HOME    M      ... 0    0      1   \n",
       "3 19  423  U  0.1 20     N    N   17.876  HOME    M      ... 0    0      1   \n",
       "4 18  416  X  0.1 20     N    Y   17.084  HOME    F      ... 0    1      1   \n",
       "5 18  522  U  0.1 20     Y    Y   16.510  HOME    F      ... 0    1      1   \n",
       "6 19  467  U  0.1 20     Y    N   16.239  HOME    F      ... 0    1      1   \n",
       "  CONDO COOP renter emp1 emp2 msn cuscode\n",
       "1 0     0    1      1    0    0   1      \n",
       "2 0     0    1      0    0    0   2      \n",
       "3 0     0    1      1    0    0   3      \n",
       "4 0     0    1      1    0    0   4      \n",
       "5 0     0    1      1    0    0   5      \n",
       "6 0     0    1      1    0    0   6      "
      ]
     },
     "metadata": {},
     "output_type": "display_data"
    }
   ],
   "source": [
    "head(direct)"
   ]
  },
  {
   "cell_type": "code",
   "execution_count": 4,
   "metadata": {},
   "outputs": [
    {
     "data": {
      "text/html": [
       "<table>\n",
       "<thead><tr><th></th><th scope=col>AGE</th><th scope=col>CRED</th><th scope=col>MS</th><th scope=col>HEQ</th><th scope=col>INCOME</th><th scope=col>DEPC</th><th scope=col>MOB</th><th scope=col>MILEAGE</th><th scope=col>RESTYPE</th><th scope=col>GENDER</th><th scope=col>...</th><th scope=col>resp</th><th scope=col>female</th><th scope=col>HOME</th><th scope=col>CONDO</th><th scope=col>COOP</th><th scope=col>renter</th><th scope=col>emp1</th><th scope=col>emp2</th><th scope=col>msn</th><th scope=col>cuscode</th></tr></thead>\n",
       "<tbody>\n",
       "\t<tr><th scope=row>29899</th><td>59    </td><td>1789  </td><td>M     </td><td> 0.1  </td><td>70    </td><td>N     </td><td>Y     </td><td> 9.917</td><td>HOME  </td><td>M     </td><td>...   </td><td>0     </td><td>0     </td><td>1     </td><td>0     </td><td>0     </td><td>1     </td><td>1     </td><td>0     </td><td>1     </td><td>29899 </td></tr>\n",
       "\t<tr><th scope=row>29900</th><td>56    </td><td>1789  </td><td>M     </td><td>30.0  </td><td>30    </td><td>Y     </td><td>Y     </td><td>17.302</td><td>COOP  </td><td>F     </td><td>...   </td><td>0     </td><td>1     </td><td>0     </td><td>0     </td><td>1     </td><td>1     </td><td>1     </td><td>0     </td><td>1     </td><td>29900 </td></tr>\n",
       "\t<tr><th scope=row>29901</th><td>58    </td><td>1789  </td><td>U     </td><td>30.0  </td><td>40    </td><td>Y     </td><td>N     </td><td>10.509</td><td>HOME  </td><td>M     </td><td>...   </td><td>0     </td><td>0     </td><td>1     </td><td>0     </td><td>0     </td><td>1     </td><td>1     </td><td>0     </td><td>0     </td><td>29901 </td></tr>\n",
       "\t<tr><th scope=row>29902</th><td>64    </td><td>1789  </td><td>M     </td><td>30.0  </td><td>40    </td><td>Y     </td><td>N     </td><td> 4.749</td><td>RENTER</td><td>F     </td><td>...   </td><td>0     </td><td>1     </td><td>0     </td><td>0     </td><td>0     </td><td>1     </td><td>1     </td><td>0     </td><td>1     </td><td>29902 </td></tr>\n",
       "\t<tr><th scope=row>29903</th><td>64    </td><td>1789  </td><td>M     </td><td>30.0  </td><td>40    </td><td>Y     </td><td>Y     </td><td>11.110</td><td>HOME  </td><td>F     </td><td>...   </td><td>0     </td><td>1     </td><td>1     </td><td>0     </td><td>0     </td><td>1     </td><td>1     </td><td>0     </td><td>1     </td><td>29903 </td></tr>\n",
       "\t<tr><th scope=row>29904</th><td>68    </td><td>1789  </td><td>M     </td><td>90.0  </td><td>40    </td><td>N     </td><td>Y     </td><td>18.653</td><td>HOME  </td><td>M     </td><td>...   </td><td>0     </td><td>0     </td><td>1     </td><td>0     </td><td>0     </td><td>1     </td><td>1     </td><td>0     </td><td>1     </td><td>29904 </td></tr>\n",
       "</tbody>\n",
       "</table>\n"
      ],
      "text/latex": [
       "\\begin{tabular}{r|llllllllllllllllllllllllll}\n",
       "  & AGE & CRED & MS & HEQ & INCOME & DEPC & MOB & MILEAGE & RESTYPE & GENDER & ... & resp & female & HOME & CONDO & COOP & renter & emp1 & emp2 & msn & cuscode\\\\\n",
       "\\hline\n",
       "\t29899 & 59     & 1789   & M      &  0.1   & 70     & N      & Y      &  9.917 & HOME   & M      & ...    & 0      & 0      & 1      & 0      & 0      & 1      & 1      & 0      & 1      & 29899 \\\\\n",
       "\t29900 & 56     & 1789   & M      & 30.0   & 30     & Y      & Y      & 17.302 & COOP   & F      & ...    & 0      & 1      & 0      & 0      & 1      & 1      & 1      & 0      & 1      & 29900 \\\\\n",
       "\t29901 & 58     & 1789   & U      & 30.0   & 40     & Y      & N      & 10.509 & HOME   & M      & ...    & 0      & 0      & 1      & 0      & 0      & 1      & 1      & 0      & 0      & 29901 \\\\\n",
       "\t29902 & 64     & 1789   & M      & 30.0   & 40     & Y      & N      &  4.749 & RENTER & F      & ...    & 0      & 1      & 0      & 0      & 0      & 1      & 1      & 0      & 1      & 29902 \\\\\n",
       "\t29903 & 64     & 1789   & M      & 30.0   & 40     & Y      & Y      & 11.110 & HOME   & F      & ...    & 0      & 1      & 1      & 0      & 0      & 1      & 1      & 0      & 1      & 29903 \\\\\n",
       "\t29904 & 68     & 1789   & M      & 90.0   & 40     & N      & Y      & 18.653 & HOME   & M      & ...    & 0      & 0      & 1      & 0      & 0      & 1      & 1      & 0      & 1      & 29904 \\\\\n",
       "\\end{tabular}\n"
      ],
      "text/markdown": [
       "\n",
       "| <!--/--> | AGE | CRED | MS | HEQ | INCOME | DEPC | MOB | MILEAGE | RESTYPE | GENDER | ... | resp | female | HOME | CONDO | COOP | renter | emp1 | emp2 | msn | cuscode | \n",
       "|---|---|---|---|---|---|\n",
       "| 29899 | 59     | 1789   | M      |  0.1   | 70     | N      | Y      |  9.917 | HOME   | M      | ...    | 0      | 0      | 1      | 0      | 0      | 1      | 1      | 0      | 1      | 29899  | \n",
       "| 29900 | 56     | 1789   | M      | 30.0   | 30     | Y      | Y      | 17.302 | COOP   | F      | ...    | 0      | 1      | 0      | 0      | 1      | 1      | 1      | 0      | 1      | 29900  | \n",
       "| 29901 | 58     | 1789   | U      | 30.0   | 40     | Y      | N      | 10.509 | HOME   | M      | ...    | 0      | 0      | 1      | 0      | 0      | 1      | 1      | 0      | 0      | 29901  | \n",
       "| 29902 | 64     | 1789   | M      | 30.0   | 40     | Y      | N      |  4.749 | RENTER | F      | ...    | 0      | 1      | 0      | 0      | 0      | 1      | 1      | 0      | 1      | 29902  | \n",
       "| 29903 | 64     | 1789   | M      | 30.0   | 40     | Y      | Y      | 11.110 | HOME   | F      | ...    | 0      | 1      | 1      | 0      | 0      | 1      | 1      | 0      | 1      | 29903  | \n",
       "| 29904 | 68     | 1789   | M      | 90.0   | 40     | N      | Y      | 18.653 | HOME   | M      | ...    | 0      | 0      | 1      | 0      | 0      | 1      | 1      | 0      | 1      | 29904  | \n",
       "\n",
       "\n"
      ],
      "text/plain": [
       "      AGE CRED MS HEQ  INCOME DEPC MOB MILEAGE RESTYPE GENDER ... resp female\n",
       "29899 59  1789 M   0.1 70     N    Y    9.917  HOME    M      ... 0    0     \n",
       "29900 56  1789 M  30.0 30     Y    Y   17.302  COOP    F      ... 0    1     \n",
       "29901 58  1789 U  30.0 40     Y    N   10.509  HOME    M      ... 0    0     \n",
       "29902 64  1789 M  30.0 40     Y    N    4.749  RENTER  F      ... 0    1     \n",
       "29903 64  1789 M  30.0 40     Y    Y   11.110  HOME    F      ... 0    1     \n",
       "29904 68  1789 M  90.0 40     N    Y   18.653  HOME    M      ... 0    0     \n",
       "      HOME CONDO COOP renter emp1 emp2 msn cuscode\n",
       "29899 1    0     0    1      1    0    1   29899  \n",
       "29900 0    0     1    1      1    0    1   29900  \n",
       "29901 1    0     0    1      1    0    0   29901  \n",
       "29902 0    0     0    1      1    0    1   29902  \n",
       "29903 1    0     0    1      1    0    1   29903  \n",
       "29904 1    0     0    1      1    0    1   29904  "
      ]
     },
     "metadata": {},
     "output_type": "display_data"
    }
   ],
   "source": [
    "tail(direct)"
   ]
  },
  {
   "cell_type": "markdown",
   "metadata": {},
   "source": [
    "> <h3><b>Univariate analysis</b></h3>"
   ]
  },
  {
   "cell_type": "markdown",
   "metadata": {},
   "source": [
    "Univariate analysis is the simplest form of analyzing data. 'Uni' means 'one'; in other words we examine the dataset one variable at a time. It doesn’t deal with causes or relationships (unlike regression) and it’s major purpose is to describe; it takes data, summarizes that data and finds patterns in the data.\n",
    "\n",
    "Methods to perform univariate analysis depends on whether the variable is continuous or categorical.\n",
    "\n",
    "If it is a continuous variable, central tendency (i.e., mean, median, mode, etc.) and spread of the variable or dispersion (i.e., range, quartile, variance, skewness-kurtosis etc.) is used. These can be measured using various statistical metrics. Boxplot can be used for visulisation.\n",
    "\n",
    "If it is a categorical variable, frequency tables are used for analysis. Count of each variable and/or percentage count helps us understand categorical data. Bar charts can be used for visulisation."
   ]
  },
  {
   "cell_type": "markdown",
   "metadata": {},
   "source": [
    "We perform univariate anaylsis for each variable in the dataset by making use of the <b>summary()</b>, <b>quantile()</b>, <b>ggplot()</b>, <b>qplot()</b> and <b>table()</b> functions.\n",
    "\n",
    "<b>summary()</b> is used to obtain a detailed description of the variable passed to it. The details it displays include range, quartiles, mean, median, frequencies, and can also indicate any missing values.\n",
    "\n",
    "<b>quantile()</b> is used to obtain the distribution of the values in the dataset, based on the percentile values given by the user.\n",
    "\n",
    "<b>ggplot()</b> is used to initialize a 'ggplot' object. It can be used to declare the input data frame for graphical notation. In this case, we create an aethetics mapping as well as a geometric box-and-whiskers plot using this function.\n",
    "\n",
    "Aesthetic mappings describe how variables in the data are mapped to visual properties (aesthetics) of geoms.\n",
    "\n",
    "The boxplot compactly displays the distribution of a continuous variable. It visualises the five summary statistics (the median, two hinges and two whiskers), and all outlying points individually.\n",
    "\n",
    "<b>qplot()</b> can be used to create the most common graph types. While it does not expose <b>ggplot()</b>'s full power, it can create a very wide range of useful plots.\n",
    "\n",
    "<b>table()</b> uses the cross-classifying factors to build a contingency table, an object of class 'table' (an array of integer values), of the counts at each combination of factor levels."
   ]
  },
  {
   "cell_type": "markdown",
   "metadata": {},
   "source": [
    "> <b>For the variable AGE:</b>\n",
    "\n",
    "AGE is used to find the overall distribution of the customers based on their age, whether he/she comes within the appropriate domain for a particular marketing implementation."
   ]
  },
  {
   "cell_type": "code",
   "execution_count": 5,
   "metadata": {},
   "outputs": [
    {
     "data": {
      "text/plain": [
       "   Min. 1st Qu.  Median    Mean 3rd Qu.    Max. \n",
       "   18.0    36.0    50.0    49.3    61.0    90.0 "
      ]
     },
     "metadata": {},
     "output_type": "display_data"
    }
   ],
   "source": [
    "summary(direct$AGE)"
   ]
  },
  {
   "cell_type": "markdown",
   "metadata": {},
   "source": [
    "> <b>For the variable CRED:</b>\n",
    "\n",
    "CRED is the credit score of the customer, which is is a numerical expression based on a level analysis of a person's credit files, to represent the credit-worthiness of an individual.\n",
    "\n",
    "Lenders, such as banks and credit card companies, use credit scores to evaluate the potential risk posed by lending money to consumers and to mitigate losses due to bad debt. Lenders use credit scores to determine who qualifies for a loan, at what interest rate, and what credit limits. Lenders also use credit scores to determine which customers are likely to bring in the most revenue.\n",
    "\n",
    "However, credit scoring is not limited to banks. Other organizations, such as mobile phone companies, landlords, government departments, or in our case insurance companies, employ the same techniques. In this situation, the credit score would be used to determine whether a potential customer would be financially able to respond to a marketing strategy."
   ]
  },
  {
   "cell_type": "code",
   "execution_count": 6,
   "metadata": {},
   "outputs": [
    {
     "data": {
      "text/plain": [
       "   Min. 1st Qu.  Median    Mean 3rd Qu.    Max.    NA's \n",
       "  300.0   574.0   617.0   603.6   652.0  1789.0      33 "
      ]
     },
     "metadata": {},
     "output_type": "display_data"
    }
   ],
   "source": [
    "summary(direct$CRED)"
   ]
  },
  {
   "cell_type": "code",
   "execution_count": 7,
   "metadata": {},
   "outputs": [
    {
     "data": {
      "text/html": [
       "<dl class=dl-horizontal>\n",
       "\t<dt>80%</dt>\n",
       "\t\t<dd>662</dd>\n",
       "\t<dt>85%</dt>\n",
       "\t\t<dd>671</dd>\n",
       "\t<dt>91%</dt>\n",
       "\t\t<dd>693</dd>\n",
       "\t<dt>92%</dt>\n",
       "\t\t<dd>700</dd>\n",
       "\t<dt>93%</dt>\n",
       "\t\t<dd>708</dd>\n",
       "\t<dt>94%</dt>\n",
       "\t\t<dd>715</dd>\n",
       "\t<dt>95%</dt>\n",
       "\t\t<dd>725.5</dd>\n",
       "\t<dt>96%</dt>\n",
       "\t\t<dd>736</dd>\n",
       "\t<dt>97%</dt>\n",
       "\t\t<dd>746</dd>\n",
       "\t<dt>98%</dt>\n",
       "\t\t<dd>757</dd>\n",
       "\t<dt>99%</dt>\n",
       "\t\t<dd>863.299999999999</dd>\n",
       "</dl>\n"
      ],
      "text/latex": [
       "\\begin{description*}\n",
       "\\item[80\\textbackslash{}\\%] 662\n",
       "\\item[85\\textbackslash{}\\%] 671\n",
       "\\item[91\\textbackslash{}\\%] 693\n",
       "\\item[92\\textbackslash{}\\%] 700\n",
       "\\item[93\\textbackslash{}\\%] 708\n",
       "\\item[94\\textbackslash{}\\%] 715\n",
       "\\item[95\\textbackslash{}\\%] 725.5\n",
       "\\item[96\\textbackslash{}\\%] 736\n",
       "\\item[97\\textbackslash{}\\%] 746\n",
       "\\item[98\\textbackslash{}\\%] 757\n",
       "\\item[99\\textbackslash{}\\%] 863.299999999999\n",
       "\\end{description*}\n"
      ],
      "text/markdown": [
       "80%\n",
       ":   66285%\n",
       ":   67191%\n",
       ":   69392%\n",
       ":   70093%\n",
       ":   70894%\n",
       ":   71595%\n",
       ":   725.596%\n",
       ":   73697%\n",
       ":   74698%\n",
       ":   75799%\n",
       ":   863.299999999999\n",
       "\n"
      ],
      "text/plain": [
       "  80%   85%   91%   92%   93%   94%   95%   96%   97%   98%   99% \n",
       "662.0 671.0 693.0 700.0 708.0 715.0 725.5 736.0 746.0 757.0 863.3 "
      ]
     },
     "metadata": {},
     "output_type": "display_data"
    }
   ],
   "source": [
    "quantile(direct$CRED,c(0.8,0.85,0.91,0.92,0.93,0.94,0.95,0.96,0.97,0.98,0.99) ,na.rm = TRUE)"
   ]
  },
  {
   "cell_type": "code",
   "execution_count": 8,
   "metadata": {},
   "outputs": [
    {
     "name": "stderr",
     "output_type": "stream",
     "text": [
      "Warning message:\n",
      "\"package 'ggplot2' was built under R version 3.3.3\"Warning message:\n",
      "\"Removed 33 rows containing non-finite values (stat_boxplot).\""
     ]
    },
    {
     "data": {},
     "metadata": {},
     "output_type": "display_data"
    },
    {
     "data": {
      "image/png": "[encoded data removed]",
      "text/plain": [
       "plot without title"
      ]
     },
     "metadata": {},
     "output_type": "display_data"
    }
   ],
   "source": [
    "library(ggplot2)\n",
    "ggplot(direct,aes(y=CRED,x=1))+geom_boxplot(outlier.colour= \"red\")"
   ]
  },
  {
   "cell_type": "markdown",
   "metadata": {},
   "source": [
    "There seem to be both outliers as well as missing values."
   ]
  },
  {
   "cell_type": "markdown",
   "metadata": {},
   "source": [
    "> <b>For the variable INCOME:</b>\n",
    "\n",
    "INCOME is used in similar manner as the credit score, to determine whether a potential customer is financially able to respond to a marketing strategy."
   ]
  },
  {
   "cell_type": "code",
   "execution_count": 9,
   "metadata": {},
   "outputs": [
    {
     "data": {
      "text/plain": [
       "   Min. 1st Qu.  Median    Mean 3rd Qu.    Max. \n",
       "  20.00   30.00   40.00   41.36   50.00  110.00 "
      ]
     },
     "metadata": {},
     "output_type": "display_data"
    }
   ],
   "source": [
    "summary(direct$INCOME)"
   ]
  },
  {
   "cell_type": "code",
   "execution_count": 10,
   "metadata": {},
   "outputs": [
    {
     "data": {
      "text/html": [
       "<dl class=dl-horizontal>\n",
       "\t<dt>80%</dt>\n",
       "\t\t<dd>50</dd>\n",
       "\t<dt>85%</dt>\n",
       "\t\t<dd>50</dd>\n",
       "\t<dt>91%</dt>\n",
       "\t\t<dd>60</dd>\n",
       "\t<dt>92%</dt>\n",
       "\t\t<dd>60</dd>\n",
       "\t<dt>93%</dt>\n",
       "\t\t<dd>60</dd>\n",
       "\t<dt>94%</dt>\n",
       "\t\t<dd>60</dd>\n",
       "\t<dt>95%</dt>\n",
       "\t\t<dd>70</dd>\n",
       "\t<dt>96%</dt>\n",
       "\t\t<dd>70</dd>\n",
       "\t<dt>97%</dt>\n",
       "\t\t<dd>70</dd>\n",
       "\t<dt>98%</dt>\n",
       "\t\t<dd>70</dd>\n",
       "\t<dt>99%</dt>\n",
       "\t\t<dd>110</dd>\n",
       "</dl>\n"
      ],
      "text/latex": [
       "\\begin{description*}\n",
       "\\item[80\\textbackslash{}\\%] 50\n",
       "\\item[85\\textbackslash{}\\%] 50\n",
       "\\item[91\\textbackslash{}\\%] 60\n",
       "\\item[92\\textbackslash{}\\%] 60\n",
       "\\item[93\\textbackslash{}\\%] 60\n",
       "\\item[94\\textbackslash{}\\%] 60\n",
       "\\item[95\\textbackslash{}\\%] 70\n",
       "\\item[96\\textbackslash{}\\%] 70\n",
       "\\item[97\\textbackslash{}\\%] 70\n",
       "\\item[98\\textbackslash{}\\%] 70\n",
       "\\item[99\\textbackslash{}\\%] 110\n",
       "\\end{description*}\n"
      ],
      "text/markdown": [
       "80%\n",
       ":   5085%\n",
       ":   5091%\n",
       ":   6092%\n",
       ":   6093%\n",
       ":   6094%\n",
       ":   6095%\n",
       ":   7096%\n",
       ":   7097%\n",
       ":   7098%\n",
       ":   7099%\n",
       ":   110\n",
       "\n"
      ],
      "text/plain": [
       "80% 85% 91% 92% 93% 94% 95% 96% 97% 98% 99% \n",
       " 50  50  60  60  60  60  70  70  70  70 110 "
      ]
     },
     "metadata": {},
     "output_type": "display_data"
    }
   ],
   "source": [
    "quantile(direct$INCOME,c(0.8,0.85,0.91,0.92,0.93,0.94,0.95,0.96,0.97,0.98,0.99) ,na.rm = TRUE)"
   ]
  },
  {
   "cell_type": "markdown",
   "metadata": {},
   "source": [
    "There are no missing values, but there seem to be some outliers which can be removed"
   ]
  },
  {
   "cell_type": "markdown",
   "metadata": {},
   "source": [
    "> <b>For the variable DEPC:</b>\n",
    "\n",
    "DEPC denotes market depreciation, which measures the decrease or loss of value of an asset, because of age, wear or market conditions. It can also be taken as an allowance made for the loss of value.\n",
    "\n",
    "In this case, the variable DEPC is a 'YES'/'NO' type variable, so using the summary() function gives us the count of both YESs as well as NOs."
   ]
  },
  {
   "cell_type": "code",
   "execution_count": 11,
   "metadata": {},
   "outputs": [
    {
     "data": {
      "text/html": [
       "<dl class=dl-horizontal>\n",
       "\t<dt>N</dt>\n",
       "\t\t<dd>18502</dd>\n",
       "\t<dt>Y</dt>\n",
       "\t\t<dd>11402</dd>\n",
       "</dl>\n"
      ],
      "text/latex": [
       "\\begin{description*}\n",
       "\\item[N] 18502\n",
       "\\item[Y] 11402\n",
       "\\end{description*}\n"
      ],
      "text/markdown": [
       "N\n",
       ":   18502Y\n",
       ":   11402\n",
       "\n"
      ],
      "text/plain": [
       "    N     Y \n",
       "18502 11402 "
      ]
     },
     "metadata": {},
     "output_type": "display_data"
    }
   ],
   "source": [
    "summary(direct$DEPC)"
   ]
  },
  {
   "cell_type": "markdown",
   "metadata": {},
   "source": [
    "> <b>For the variable MOB:</b>\n",
    "\n",
    "MOB indicates whether the customer being sent the marketing e-mail has previously used the company's services or not, which is again denoted in a 'YES'/'NO' manner."
   ]
  },
  {
   "cell_type": "code",
   "execution_count": 12,
   "metadata": {},
   "outputs": [
    {
     "data": {
      "text/html": [
       "<dl class=dl-horizontal>\n",
       "\t<dt>N</dt>\n",
       "\t\t<dd>11340</dd>\n",
       "\t<dt>Y</dt>\n",
       "\t\t<dd>18564</dd>\n",
       "</dl>\n"
      ],
      "text/latex": [
       "\\begin{description*}\n",
       "\\item[N] 11340\n",
       "\\item[Y] 18564\n",
       "\\end{description*}\n"
      ],
      "text/markdown": [
       "N\n",
       ":   11340Y\n",
       ":   18564\n",
       "\n"
      ],
      "text/plain": [
       "    N     Y \n",
       "11340 18564 "
      ]
     },
     "metadata": {},
     "output_type": "display_data"
    }
   ],
   "source": [
    "summary(direct$MOB)"
   ]
  },
  {
   "cell_type": "markdown",
   "metadata": {},
   "source": [
    "> <b>For the variable MILEAGE:</b>\n",
    "\n",
    "MILEAGE is used to track the mileage of a potential customer's vehicle. Depending on the product being marketed, this may also give some insight into the customer's behavioural patterns."
   ]
  },
  {
   "cell_type": "code",
   "execution_count": 13,
   "metadata": {},
   "outputs": [
    {
     "data": {
      "text/plain": [
       "   Min. 1st Qu.  Median    Mean 3rd Qu.    Max. \n",
       "  0.000   7.776  12.540  11.800  16.190  94.640 "
      ]
     },
     "metadata": {},
     "output_type": "display_data"
    }
   ],
   "source": [
    "summary(direct$MILEAGE)"
   ]
  },
  {
   "cell_type": "code",
   "execution_count": 14,
   "metadata": {},
   "outputs": [
    {
     "data": {
      "text/html": [
       "<dl class=dl-horizontal>\n",
       "\t<dt>80%</dt>\n",
       "\t\t<dd>16.989</dd>\n",
       "\t<dt>85%</dt>\n",
       "\t\t<dd>17.7941</dd>\n",
       "\t<dt>91%</dt>\n",
       "\t\t<dd>18.725</dd>\n",
       "\t<dt>92%</dt>\n",
       "\t\t<dd>18.86676</dd>\n",
       "\t<dt>93%</dt>\n",
       "\t\t<dd>19.01679</dd>\n",
       "\t<dt>94%</dt>\n",
       "\t\t<dd>19.17064</dd>\n",
       "\t<dt>95%</dt>\n",
       "\t\t<dd>19.32485</dd>\n",
       "\t<dt>96%</dt>\n",
       "\t\t<dd>19.475</dd>\n",
       "\t<dt>97%</dt>\n",
       "\t\t<dd>19.62591</dd>\n",
       "\t<dt>98%</dt>\n",
       "\t\t<dd>19.781</dd>\n",
       "\t<dt>99%</dt>\n",
       "\t\t<dd>19.933</dd>\n",
       "</dl>\n"
      ],
      "text/latex": [
       "\\begin{description*}\n",
       "\\item[80\\textbackslash{}\\%] 16.989\n",
       "\\item[85\\textbackslash{}\\%] 17.7941\n",
       "\\item[91\\textbackslash{}\\%] 18.725\n",
       "\\item[92\\textbackslash{}\\%] 18.86676\n",
       "\\item[93\\textbackslash{}\\%] 19.01679\n",
       "\\item[94\\textbackslash{}\\%] 19.17064\n",
       "\\item[95\\textbackslash{}\\%] 19.32485\n",
       "\\item[96\\textbackslash{}\\%] 19.475\n",
       "\\item[97\\textbackslash{}\\%] 19.62591\n",
       "\\item[98\\textbackslash{}\\%] 19.781\n",
       "\\item[99\\textbackslash{}\\%] 19.933\n",
       "\\end{description*}\n"
      ],
      "text/markdown": [
       "80%\n",
       ":   16.98985%\n",
       ":   17.794191%\n",
       ":   18.72592%\n",
       ":   18.8667693%\n",
       ":   19.0167994%\n",
       ":   19.1706495%\n",
       ":   19.3248596%\n",
       ":   19.47597%\n",
       ":   19.6259198%\n",
       ":   19.78199%\n",
       ":   19.933\n",
       "\n"
      ],
      "text/plain": [
       "     80%      85%      91%      92%      93%      94%      95%      96% \n",
       "16.98900 17.79410 18.72500 18.86676 19.01679 19.17064 19.32485 19.47500 \n",
       "     97%      98%      99% \n",
       "19.62591 19.78100 19.93300 "
      ]
     },
     "metadata": {},
     "output_type": "display_data"
    }
   ],
   "source": [
    "quantile(direct$MILEAGE,c(0.8,0.85,0.91,0.92,0.93,0.94,0.95,0.96,0.97,0.98,0.99) ,na.rm = TRUE)"
   ]
  },
  {
   "cell_type": "code",
   "execution_count": 15,
   "metadata": {},
   "outputs": [
    {
     "data": {},
     "metadata": {},
     "output_type": "display_data"
    },
    {
     "data": {
      "image/png": "[encoded data removed]",
      "text/plain": [
       "plot without title"
      ]
     },
     "metadata": {},
     "output_type": "display_data"
    }
   ],
   "source": [
    "ggplot(direct,aes(y=MILEAGE,x=1))+geom_boxplot(outlier.colour= \"red\")"
   ]
  },
  {
   "cell_type": "markdown",
   "metadata": {},
   "source": [
    "There seem to be no missing values or outliers."
   ]
  },
  {
   "cell_type": "markdown",
   "metadata": {},
   "source": [
    "> <b>For the variable RESTYPE:</b>\n",
    "\n",
    "RESTYPE is used to denote the type of home a potential customer may live in. It may be something they own, like an independent house or an apartment flat, it may be something that they rent, etc. This gives us a clue about his/her financial status and stability."
   ]
  },
  {
   "cell_type": "code",
   "execution_count": 16,
   "metadata": {},
   "outputs": [
    {
     "data": {
      "text/html": [
       "<dl class=dl-horizontal>\n",
       "\t<dt>CONDO</dt>\n",
       "\t\t<dd>566</dd>\n",
       "\t<dt>COOP</dt>\n",
       "\t\t<dd>885</dd>\n",
       "\t<dt>HOME</dt>\n",
       "\t\t<dd>16365</dd>\n",
       "\t<dt>RENTER</dt>\n",
       "\t\t<dd>12088</dd>\n",
       "</dl>\n"
      ],
      "text/latex": [
       "\\begin{description*}\n",
       "\\item[CONDO] 566\n",
       "\\item[COOP] 885\n",
       "\\item[HOME] 16365\n",
       "\\item[RENTER] 12088\n",
       "\\end{description*}\n"
      ],
      "text/markdown": [
       "CONDO\n",
       ":   566COOP\n",
       ":   885HOME\n",
       ":   16365RENTER\n",
       ":   12088\n",
       "\n"
      ],
      "text/plain": [
       " CONDO   COOP   HOME RENTER \n",
       "   566    885  16365  12088 "
      ]
     },
     "metadata": {},
     "output_type": "display_data"
    }
   ],
   "source": [
    "summary(direct$RESTYPE)"
   ]
  },
  {
   "cell_type": "code",
   "execution_count": 17,
   "metadata": {},
   "outputs": [
    {
     "data": {},
     "metadata": {},
     "output_type": "display_data"
    },
    {
     "data": {
      "image/png": "[encoded data removed]",
      "text/plain": [
       "plot without title"
      ]
     },
     "metadata": {},
     "output_type": "display_data"
    }
   ],
   "source": [
    "qplot(as.factor(RESTYPE),data = direct)"
   ]
  },
  {
   "cell_type": "markdown",
   "metadata": {},
   "source": [
    "There seem to be no missing values or outliers."
   ]
  },
  {
   "cell_type": "markdown",
   "metadata": {},
   "source": [
    "> <b>For the variable EMP_STA:</b>\n",
    "\n",
    "EMP_STA denotes the employer status, which indicates the number of jobs the customer is currently working. This can give a direct correlation over their financial status."
   ]
  },
  {
   "cell_type": "code",
   "execution_count": 18,
   "metadata": {},
   "outputs": [
    {
     "data": {
      "text/html": [
       "<dl class=dl-horizontal>\n",
       "\t<dt>0</dt>\n",
       "\t\t<dd>968</dd>\n",
       "\t<dt>1,2</dt>\n",
       "\t\t<dd>27146</dd>\n",
       "\t<dt>3+</dt>\n",
       "\t\t<dd>1790</dd>\n",
       "</dl>\n"
      ],
      "text/latex": [
       "\\begin{description*}\n",
       "\\item[0] 968\n",
       "\\item[1,2] 27146\n",
       "\\item[3+] 1790\n",
       "\\end{description*}\n"
      ],
      "text/markdown": [
       "0\n",
       ":   9681,2\n",
       ":   271463+\n",
       ":   1790\n",
       "\n"
      ],
      "text/plain": [
       "    0   1,2    3+ \n",
       "  968 27146  1790 "
      ]
     },
     "metadata": {},
     "output_type": "display_data"
    }
   ],
   "source": [
    "summary(direct$EMP_STA)"
   ]
  },
  {
   "cell_type": "code",
   "execution_count": 19,
   "metadata": {},
   "outputs": [
    {
     "data": {},
     "metadata": {},
     "output_type": "display_data"
    },
    {
     "data": {
      "image/png": "[encoded data removed]",
      "text/plain": [
       "plot without title"
      ]
     },
     "metadata": {},
     "output_type": "display_data"
    }
   ],
   "source": [
    "qplot(as.factor(EMP_STA),data = direct)"
   ]
  },
  {
   "cell_type": "markdown",
   "metadata": {},
   "source": [
    "There seem to be no missing values or outliers."
   ]
  },
  {
   "cell_type": "markdown",
   "metadata": {},
   "source": [
    "> <b>For the variable DELINQ:</b>\n",
    "\n",
    "DELINQ is used to indicate the delinquency status of a potential customer, a variable that helps the company choose their candidates more carefully."
   ]
  },
  {
   "cell_type": "code",
   "execution_count": 20,
   "metadata": {},
   "outputs": [
    {
     "data": {
      "text/plain": [
       "   Min. 1st Qu.  Median    Mean 3rd Qu.    Max. \n",
       " 0.0000  0.0000  0.0000  0.7662  1.0000  7.0000 "
      ]
     },
     "metadata": {},
     "output_type": "display_data"
    }
   ],
   "source": [
    "summary(direct$DELINQ)"
   ]
  },
  {
   "cell_type": "code",
   "execution_count": 21,
   "metadata": {},
   "outputs": [
    {
     "data": {
      "text/html": [
       "<dl class=dl-horizontal>\n",
       "\t<dt>80%</dt>\n",
       "\t\t<dd>2</dd>\n",
       "\t<dt>85%</dt>\n",
       "\t\t<dd>2</dd>\n",
       "\t<dt>91%</dt>\n",
       "\t\t<dd>3</dd>\n",
       "\t<dt>92%</dt>\n",
       "\t\t<dd>3</dd>\n",
       "\t<dt>93%</dt>\n",
       "\t\t<dd>3</dd>\n",
       "\t<dt>94%</dt>\n",
       "\t\t<dd>3</dd>\n",
       "\t<dt>95%</dt>\n",
       "\t\t<dd>3</dd>\n",
       "\t<dt>96%</dt>\n",
       "\t\t<dd>3</dd>\n",
       "\t<dt>97%</dt>\n",
       "\t\t<dd>4</dd>\n",
       "\t<dt>98%</dt>\n",
       "\t\t<dd>4</dd>\n",
       "\t<dt>99%</dt>\n",
       "\t\t<dd>4</dd>\n",
       "</dl>\n"
      ],
      "text/latex": [
       "\\begin{description*}\n",
       "\\item[80\\textbackslash{}\\%] 2\n",
       "\\item[85\\textbackslash{}\\%] 2\n",
       "\\item[91\\textbackslash{}\\%] 3\n",
       "\\item[92\\textbackslash{}\\%] 3\n",
       "\\item[93\\textbackslash{}\\%] 3\n",
       "\\item[94\\textbackslash{}\\%] 3\n",
       "\\item[95\\textbackslash{}\\%] 3\n",
       "\\item[96\\textbackslash{}\\%] 3\n",
       "\\item[97\\textbackslash{}\\%] 4\n",
       "\\item[98\\textbackslash{}\\%] 4\n",
       "\\item[99\\textbackslash{}\\%] 4\n",
       "\\end{description*}\n"
      ],
      "text/markdown": [
       "80%\n",
       ":   285%\n",
       ":   291%\n",
       ":   392%\n",
       ":   393%\n",
       ":   394%\n",
       ":   395%\n",
       ":   396%\n",
       ":   397%\n",
       ":   498%\n",
       ":   499%\n",
       ":   4\n",
       "\n"
      ],
      "text/plain": [
       "80% 85% 91% 92% 93% 94% 95% 96% 97% 98% 99% \n",
       "  2   2   3   3   3   3   3   3   4   4   4 "
      ]
     },
     "metadata": {},
     "output_type": "display_data"
    }
   ],
   "source": [
    "quantile(direct$DELINQ,c(0.8,0.85,0.91,0.92,0.93,0.94,0.95,0.96,0.97,0.98,0.99))"
   ]
  },
  {
   "cell_type": "code",
   "execution_count": 22,
   "metadata": {},
   "outputs": [
    {
     "data": {},
     "metadata": {},
     "output_type": "display_data"
    },
    {
     "data": {
      "image/png": "[encoded data removed]",
      "text/plain": [
       "plot without title"
      ]
     },
     "metadata": {},
     "output_type": "display_data"
    }
   ],
   "source": [
    "ggplot(direct,aes(y=DELINQ,x=1))+geom_boxplot(outlier.colour= \"red\")"
   ]
  },
  {
   "cell_type": "markdown",
   "metadata": {},
   "source": [
    "There seem to be no missing values, but there are few outliers which can be considered."
   ]
  },
  {
   "cell_type": "markdown",
   "metadata": {},
   "source": [
    "> <b>For the variable NUMTR:</b>\n",
    "\n",
    "NUMTR stands for number of trades actively being done by the customer, which gives a measure of how successful he/she is at his/her chosen profession, and by extension, his/her financial stability."
   ]
  },
  {
   "cell_type": "code",
   "execution_count": 23,
   "metadata": {},
   "outputs": [
    {
     "data": {
      "text/plain": [
       "   Min. 1st Qu.  Median    Mean 3rd Qu.    Max. \n",
       " 0.0000  0.0000  0.0000  0.7633  1.0000  7.0000 "
      ]
     },
     "metadata": {},
     "output_type": "display_data"
    }
   ],
   "source": [
    "summary(direct$NUMTR)"
   ]
  },
  {
   "cell_type": "code",
   "execution_count": 24,
   "metadata": {},
   "outputs": [
    {
     "data": {
      "text/html": [
       "<dl class=dl-horizontal>\n",
       "\t<dt>80%</dt>\n",
       "\t\t<dd>2</dd>\n",
       "\t<dt>85%</dt>\n",
       "\t\t<dd>2</dd>\n",
       "\t<dt>91%</dt>\n",
       "\t\t<dd>3</dd>\n",
       "\t<dt>92%</dt>\n",
       "\t\t<dd>3</dd>\n",
       "\t<dt>93%</dt>\n",
       "\t\t<dd>3</dd>\n",
       "\t<dt>94%</dt>\n",
       "\t\t<dd>3</dd>\n",
       "\t<dt>95%</dt>\n",
       "\t\t<dd>3</dd>\n",
       "\t<dt>96%</dt>\n",
       "\t\t<dd>3</dd>\n",
       "\t<dt>97%</dt>\n",
       "\t\t<dd>4</dd>\n",
       "\t<dt>98%</dt>\n",
       "\t\t<dd>4</dd>\n",
       "\t<dt>99%</dt>\n",
       "\t\t<dd>4</dd>\n",
       "</dl>\n"
      ],
      "text/latex": [
       "\\begin{description*}\n",
       "\\item[80\\textbackslash{}\\%] 2\n",
       "\\item[85\\textbackslash{}\\%] 2\n",
       "\\item[91\\textbackslash{}\\%] 3\n",
       "\\item[92\\textbackslash{}\\%] 3\n",
       "\\item[93\\textbackslash{}\\%] 3\n",
       "\\item[94\\textbackslash{}\\%] 3\n",
       "\\item[95\\textbackslash{}\\%] 3\n",
       "\\item[96\\textbackslash{}\\%] 3\n",
       "\\item[97\\textbackslash{}\\%] 4\n",
       "\\item[98\\textbackslash{}\\%] 4\n",
       "\\item[99\\textbackslash{}\\%] 4\n",
       "\\end{description*}\n"
      ],
      "text/markdown": [
       "80%\n",
       ":   285%\n",
       ":   291%\n",
       ":   392%\n",
       ":   393%\n",
       ":   394%\n",
       ":   395%\n",
       ":   396%\n",
       ":   397%\n",
       ":   498%\n",
       ":   499%\n",
       ":   4\n",
       "\n"
      ],
      "text/plain": [
       "80% 85% 91% 92% 93% 94% 95% 96% 97% 98% 99% \n",
       "  2   2   3   3   3   3   3   3   4   4   4 "
      ]
     },
     "metadata": {},
     "output_type": "display_data"
    }
   ],
   "source": [
    "quantile(direct$NUMTR,c(0.8,0.85,0.91,0.92,0.93,0.94,0.95,0.96,0.97,0.98,0.99))"
   ]
  },
  {
   "cell_type": "markdown",
   "metadata": {},
   "source": [
    "There seem to be no missing values, but there are few outliers which can be considered."
   ]
  },
  {
   "cell_type": "markdown",
   "metadata": {},
   "source": [
    "> <b>For the variable MRTGI:</b>\n",
    "\n",
    "MRTGI denotes whether a potential customer has given any property he/she owns for mortgage, which could indicate lesser income. It is denoted by a 'YES'/'NO'/'UNDEFINED' type variable."
   ]
  },
  {
   "cell_type": "code",
   "execution_count": 25,
   "metadata": {},
   "outputs": [
    {
     "data": {
      "text/html": [
       "<dl class=dl-horizontal>\n",
       "\t<dt>N</dt>\n",
       "\t\t<dd>17484</dd>\n",
       "\t<dt>U</dt>\n",
       "\t\t<dd>1763</dd>\n",
       "\t<dt>Y</dt>\n",
       "\t\t<dd>10657</dd>\n",
       "</dl>\n"
      ],
      "text/latex": [
       "\\begin{description*}\n",
       "\\item[N] 17484\n",
       "\\item[U] 1763\n",
       "\\item[Y] 10657\n",
       "\\end{description*}\n"
      ],
      "text/markdown": [
       "N\n",
       ":   17484U\n",
       ":   1763Y\n",
       ":   10657\n",
       "\n"
      ],
      "text/plain": [
       "    N     U     Y \n",
       "17484  1763 10657 "
      ]
     },
     "metadata": {},
     "output_type": "display_data"
    }
   ],
   "source": [
    "summary(direct$MRTGI)"
   ]
  },
  {
   "cell_type": "code",
   "execution_count": 26,
   "metadata": {},
   "outputs": [
    {
     "data": {},
     "metadata": {},
     "output_type": "display_data"
    },
    {
     "data": {
      "image/png": "[encoded data removed]",
      "text/plain": [
       "plot without title"
      ]
     },
     "metadata": {},
     "output_type": "display_data"
    }
   ],
   "source": [
    "qplot(as.factor(direct$MRTGI),data = direct)"
   ]
  },
  {
   "cell_type": "markdown",
   "metadata": {},
   "source": [
    "> <b>For the variable MFDU:</b>\n",
    "\n",
    "MFDU indicates whether a customer has multiple family dwelling units, i.e., if he/she owns multiple homes where family members reside."
   ]
  },
  {
   "cell_type": "code",
   "execution_count": 27,
   "metadata": {},
   "outputs": [
    {
     "data": {
      "text/plain": [
       "   Min. 1st Qu.  Median    Mean 3rd Qu.    Max. \n",
       " 0.0000  0.0000  0.0000  0.4527  1.0000  1.0000 "
      ]
     },
     "metadata": {},
     "output_type": "display_data"
    }
   ],
   "source": [
    "summary(direct$MFDU)"
   ]
  },
  {
   "cell_type": "code",
   "execution_count": 28,
   "metadata": {},
   "outputs": [
    {
     "data": {
      "text/plain": [
       "\n",
       "    0     1 \n",
       "16365 13539 "
      ]
     },
     "metadata": {},
     "output_type": "display_data"
    }
   ],
   "source": [
    "table(direct$MFDU)"
   ]
  },
  {
   "cell_type": "markdown",
   "metadata": {},
   "source": [
    "> <b>For the variable RESP:</b>\n",
    "\n",
    "RESP indicates the response measure."
   ]
  },
  {
   "cell_type": "code",
   "execution_count": 29,
   "metadata": {},
   "outputs": [
    {
     "data": {
      "text/plain": [
       "   Min. 1st Qu.  Median    Mean 3rd Qu.    Max. \n",
       "0.00000 0.00000 0.00000 0.09554 0.00000 1.00000 "
      ]
     },
     "metadata": {},
     "output_type": "display_data"
    }
   ],
   "source": [
    "summary(direct$resp)"
   ]
  },
  {
   "cell_type": "code",
   "execution_count": 30,
   "metadata": {},
   "outputs": [
    {
     "data": {
      "text/plain": [
       "\n",
       "    0     1 \n",
       "27047  2857 "
      ]
     },
     "metadata": {},
     "output_type": "display_data"
    }
   ],
   "source": [
    "table(direct$resp)"
   ]
  },
  {
   "cell_type": "markdown",
   "metadata": {},
   "source": [
    "> <b>For the variable Female:</b>\n",
    "\n",
    "Female is used to indicate whether a potential customer is a woman or not."
   ]
  },
  {
   "cell_type": "code",
   "execution_count": 31,
   "metadata": {},
   "outputs": [
    {
     "data": {
      "text/plain": [
       "   Min. 1st Qu.  Median    Mean 3rd Qu.    Max. \n",
       " 0.0000  0.0000  0.0000  0.4223  1.0000  1.0000 "
      ]
     },
     "metadata": {},
     "output_type": "display_data"
    }
   ],
   "source": [
    "summary(direct$female)"
   ]
  },
  {
   "cell_type": "code",
   "execution_count": 32,
   "metadata": {},
   "outputs": [
    {
     "data": {
      "text/plain": [
       "\n",
       "    0     1 \n",
       "17276 12628 "
      ]
     },
     "metadata": {},
     "output_type": "display_data"
    }
   ],
   "source": [
    "table(direct$female)"
   ]
  },
  {
   "cell_type": "markdown",
   "metadata": {},
   "source": [
    "> <b>For the variable msn:</b>\n",
    "\n",
    "msn is used to indicate whether the customer is enrolled with the Medical Safety Net program, i.e., whether he/she possesses some sort of medical insurance policy."
   ]
  },
  {
   "cell_type": "code",
   "execution_count": 33,
   "metadata": {},
   "outputs": [
    {
     "data": {
      "text/plain": [
       "   Min. 1st Qu.  Median    Mean 3rd Qu.    Max. \n",
       " 0.0000  0.0000  1.0000  0.5759  1.0000  1.0000 "
      ]
     },
     "metadata": {},
     "output_type": "display_data"
    }
   ],
   "source": [
    "summary(direct$msn)"
   ]
  },
  {
   "cell_type": "code",
   "execution_count": 34,
   "metadata": {},
   "outputs": [
    {
     "data": {
      "text/plain": [
       "\n",
       "    0     1 \n",
       "12683 17221 "
      ]
     },
     "metadata": {},
     "output_type": "display_data"
    }
   ],
   "source": [
    "table(direct$msn)"
   ]
  },
  {
   "cell_type": "markdown",
   "metadata": {},
   "source": [
    "Data Cleaning\n",
    "==="
   ]
  },
  {
   "cell_type": "markdown",
   "metadata": {},
   "source": [
    "This mostly involves the treating of missing values and outliers. 'NA' stands for 'Not Available', and is the placeholder used by most statistical programming languages to denote values that have not been entered, or that could not be read from the input dataset. Similarly, 'NaN' stands for 'Not A Number', and is used to denote values which result from impossible mathematical operations, like dividing a number by zero.\n",
    "\n",
    "Missing values may occur at two stages:\n",
    "<ul>\n",
    "\n",
    "<li><b>Data Extraction:</b></li>\n",
    "\n",
    "It is possible that there are problems with extraction process. In such cases, we should double-check for correct data with data guardians. Some hashing procedures can also be used to make sure data extraction is correct. Errors at data extraction stage are typically easy to find and can be corrected easily as well.\n",
    "<br><br>\n",
    "<li><b>Data collection:</b></li>\n",
    "\n",
    "These errors occur at time of data collection and are harder to correct. They can be categorized in four types:\n",
    "<ul>\n",
    "<li>Missing completely at random: This is a case when the probability of missing variable is same for all observations. Ex: respondents of data collection process decide that they will declare their earning after tossing a fair coin. If an head occurs, respondent declares his/her earnings & vice versa. Here each observation has equal chance of missing value.</li>\n",
    "\n",
    "<li>Missing at random: This is a case when variable is missing at random and missing ratio varies for different values/level of other input variables. For example: We are collecting data for age and female has higher missing value compare to male.</li>\n",
    "\n",
    "<li>Missing that depends on unobserved predictors: This is a case when the missing values are not random and are related to the unobserved input variable. For example: In a medical study, if a particular diagnostic causes discomfort, then there is higher chance of drop out from the study. This missing value is not at random unless we have included “discomfort” as an input variable for all patients.</li>\n",
    "\n",
    "<li>Missing that depends on the missing value itself: This is a case when the probability of missing value is directly correlated with missing value itself. For example: People with higher or lower income are likely to provide non-response to their earning.</li>\n",
    "</ul></ul>\n",
    "There are various methods to treat missing values:\n",
    "<ul>\n",
    "<li><b>Deletion:</b></li>\n",
    "\n",
    "It is of two types: list-wise deletion and pair-wise deletion.\n",
    "<ul>\n",
    "<li>List-wise deletion: We delete the observations where any of the variables is missing. Simplicity is one of the major advantage of this method, but this also reduces the power of model, because it reduces the sample size.</li>\n",
    "\n",
    "<li>Pair-wise deletion: We perform analysis with all cases in which the variables of interest are present. The advantage of this method is that it keeps as many cases available as possible, for analysis. The disadvantage of this method is that it uses different sample size for different variables.</li>\n",
    "</ul>\n",
    "<br>\n",
    "<li><b>Mean/mode/median imputation:</b></li>\n",
    "Imputation is a method to fill in the missing values with estimated ones. The objective is to employ known relationships that can be identified in the valid values of the data set to assist in estimating the missing values. Mean / Mode / Median imputation is one of the most frequently used methods. It consists of replacing the missing data for a given attribute by the mean or median (quantitative attribute) or mode (qualitative attribute) of all known values of that variable. It can be of two types:-\n",
    "<ul>\n",
    "<li>Generalized Imputation: In this case, we calculate the mean or median for all non missing values of that variable then replace missing value with mean or median.</li>\n",
    "<li>Similar case Imputation: In this case, we calculate average for each type of value of non missing values individually, then replace the missing value based on it.</li>\n",
    "</ul>\n",
    "<br>\n",
    "<li><b>Prediction Model:</b></li>\n",
    "\n",
    "Prediction model is one of the more sophisticated methods for handling missing data. Here, we create a predictive model to estimate values that will substitute the missing data.  In this case, we divide our data set into two sets: One set with no missing values for the variable and another one with missing values. First data set become training data set of the model while second data set with missing values is test data set and variable with missing values is treated as target variable. Next, we create a model to predict target variable based on other attributes of the training data set and populate missing values of test data set.\n",
    "</ul>"
   ]
  },
  {
   "cell_type": "markdown",
   "metadata": {},
   "source": [
    "In this situation, we decide to remove the NAs, rather than replace them with the mean/mode/median or use a prediction model. The decision to remove them was taken since removal of NAs is the simplest option to implement.\n",
    "\n",
    "The functions used here are is.na() and mean()\n",
    "<ul>\n",
    "<li><b>is.na()</b> checks if a particular variable contains NAs or not</li>\n",
    "<li><b>mean()</b> calculates the mean of the specified variable</li>\n",
    "</ul>"
   ]
  },
  {
   "cell_type": "markdown",
   "metadata": {},
   "source": [
    "The variable $CRED had a lot of missing values, we decide to treat it by removal:"
   ]
  },
  {
   "cell_type": "code",
   "execution_count": 35,
   "metadata": {
    "collapsed": true
   },
   "outputs": [],
   "source": [
    "direct$CRED = ifelse(is.na(direct$CRED),mean(direct$CRED,na.rm = TRUE),direct$CRED)"
   ]
  },
  {
   "cell_type": "markdown",
   "metadata": {},
   "source": [
    "After removal of NAs, we create a table for the variable $RESP:"
   ]
  },
  {
   "cell_type": "code",
   "execution_count": 36,
   "metadata": {},
   "outputs": [
    {
     "data": {
      "text/plain": [
       "\n",
       "    0     1 \n",
       "27047  2857 "
      ]
     },
     "metadata": {},
     "output_type": "display_data"
    }
   ],
   "source": [
    "table(direct$resp)"
   ]
  },
  {
   "cell_type": "markdown",
   "metadata": {},
   "source": [
    "Here, it is evident that there is not enough data such that the number of ones is comparable with the number of zeroes. This is called an imbalanced class problem.\n",
    "\n",
    "<b>Imbalanced classification:</b> It is a supervised learning problem where one class outnumbers other class by a large proportion. This problem is faced more frequently in binary classification problems than multi-level classification problems.\n",
    "\n",
    "The term imbalanced refer to the disparity encountered in the dependent (response) variable. Therefore, an imbalanced classification problem is one in which the dependent variable has imbalanced proportion of classes. In other words, a dataset that exhibits an unequal distribution between its classes is considered to be imbalanced.\n",
    "\n",
    "The methods to deal with imbalanced classification are widely known as sampling methods. Generally, these methods aim to modify an imbalanced data into balanced distribution using some mechanism. The modification occurs by altering the size of original data set and provide the same proportion of balance.\n",
    "\n",
    "These methods have acquired higher importance after many researches have proved that balanced data results in improved overall classification performance compared to an imbalanced data set. Hence, it’s important to learn them.\n",
    "\n",
    "Below are the methods used to treat imbalanced datasets:\n",
    "<ul>\n",
    "<li>Undersampling: using a bias function to select more samples from the smaller distribution in the dataset</li>\n",
    "<li>Oversampling: using a bias functino to select less samples from the larger distribution in the dataset</li>\n",
    "<li>Synthetic Data Generation: creating data that has not been obtained by direct measurement</li>\n",
    "<li>Cost Sensitive Learning: using a confusion/cost matrix to determine the misclassification error</li>\n",
    "</ul>"
   ]
  },
  {
   "cell_type": "markdown",
   "metadata": {},
   "source": [
    "In this case, we use the oversampling method to increase the samples of ones (since zeroes far outnumber ones) taken from the dataset.\n",
    "\n",
    "The function used is <b>ovun.sample()</b>, which can either perform random oversampling, random undersampling, or a combination of both, based on the parameters specified."
   ]
  },
  {
   "cell_type": "code",
   "execution_count": 37,
   "metadata": {},
   "outputs": [
    {
     "name": "stderr",
     "output_type": "stream",
     "text": [
      "Warning message:\n",
      "\"package 'ROSE' was built under R version 3.3.3\"Loaded ROSE 0.0-3\n",
      "\n"
     ]
    }
   ],
   "source": [
    "library(ROSE)\n",
    "data_over <- ovun.sample(resp~ AGE+CRED+MS+HEQ+INCOME+DEPC+MOB+MILEAGE+RESTYPE+GENDER+EMP_STA+RES_STA+DELINQ+NUMTR+MRTGI+MFDU, data =direct, method = \"over\", p=0.30, seed = 1)$data"
   ]
  },
  {
   "cell_type": "markdown",
   "metadata": {},
   "source": [
    "This should help in building a more balanced model."
   ]
  },
  {
   "cell_type": "markdown",
   "metadata": {},
   "source": [
    "Model building\n",
    "==="
   ]
  },
  {
   "cell_type": "markdown",
   "metadata": {},
   "source": [
    "After the removal of NAs and the treatment of the imbalanced class problem, we now begin builing the prediction model."
   ]
  },
  {
   "cell_type": "markdown",
   "metadata": {},
   "source": [
    "First, we split the data into two sets: training set and testing set, based on a split ratio.\n",
    "<ul>\n",
    "<li>The training set is a set of data used to discover potentially predictive relationships</li>\n",
    "<li>The testing set  is a set of data used to assess the strength and utility of a predictive relationship</li>\n",
    "</ul>\n",
    "\n",
    "The functions are:\n",
    "<ul>\n",
    "<li><b>sample.split()</b> is used to split a given dataset based on a specified split condition and a split ratio</li>\n",
    "<li><b>subset()</b> is used to select all the values of a dataset which satisfy the criteria given</li>\n",
    "</ul>"
   ]
  },
  {
   "cell_type": "code",
   "execution_count": 38,
   "metadata": {},
   "outputs": [
    {
     "name": "stderr",
     "output_type": "stream",
     "text": [
      "Warning message:\n",
      "\"package 'caTools' was built under R version 3.3.3\""
     ]
    }
   ],
   "source": [
    "library(caTools)\n",
    "spl = sample.split(data_over$resp, SplitRatio = 25/150)\n",
    "training = subset(data_over, spl==FALSE)\n",
    "testing = subset(data_over, spl==TRUE)"
   ]
  },
  {
   "cell_type": "markdown",
   "metadata": {},
   "source": [
    "We now build a model using the <b>glm()</b> function, which can handle a variety of linear models. In this case we build a logistic regression model."
   ]
  },
  {
   "cell_type": "code",
   "execution_count": 39,
   "metadata": {
    "collapsed": true
   },
   "outputs": [],
   "source": [
    "model= glm(resp ~ AGE+CRED+MS+HEQ+INCOME+DEPC+MOB+MILEAGE+RESTYPE+GENDER+EMP_STA+RES_STA+DELINQ+NUMTR+MRTGI+MFDU, family = binomial(logit), data = training)"
   ]
  },
  {
   "cell_type": "markdown",
   "metadata": {},
   "source": [
    "We assign the predicted values to a variable by using a threshold function:\n",
    "<ul>\n",
    "<li>If the value is below the threshold value, consider it as a zero.</li>\n",
    "<li>If the value is above the threshold value, consider it as a one.</li>\n",
    "</ul>\n",
    "\n",
    "We also assign the actual values to another variable.\n",
    "\n",
    "The <b>predict()</b> function is used to compute all the model predictors in the dataset, that satisfy the condition given."
   ]
  },
  {
   "cell_type": "code",
   "execution_count": 40,
   "metadata": {},
   "outputs": [
    {
     "name": "stderr",
     "output_type": "stream",
     "text": [
      "Warning message in predict.lm(object, newdata, se.fit, scale = 1, type = ifelse(type == :\n",
      "\"prediction from a rank-deficient fit may be misleading\""
     ]
    }
   ],
   "source": [
    "predicted_values<-ifelse(predict(model,testing)>0.5,1,0)\n",
    "actual_value<-testing$resp"
   ]
  },
  {
   "cell_type": "markdown",
   "metadata": {},
   "source": [
    "A confusion matrix is created, that shows the predicted and actual value count, hence showing the distribution of zeroes and ones that were predicted as well as that are actual."
   ]
  },
  {
   "cell_type": "code",
   "execution_count": 41,
   "metadata": {},
   "outputs": [
    {
     "data": {
      "text/plain": [
       "            predicted_values\n",
       "actual_value    0    1\n",
       "           0 4498   10\n",
       "           1 1909   19"
      ]
     },
     "metadata": {},
     "output_type": "display_data"
    }
   ],
   "source": [
    "confusion_matrix<-table(actual_value, predicted_values)\n",
    "confusion_matrix"
   ]
  },
  {
   "cell_type": "markdown",
   "metadata": {},
   "source": [
    "The accuracy of the model is calculated, using the confusion matrix values. Accuracy is defined as the percentage of correct values that the model has achieved."
   ]
  },
  {
   "cell_type": "code",
   "execution_count": 42,
   "metadata": {},
   "outputs": [
    {
     "data": {
      "text/html": [
       "0.70183343691734"
      ],
      "text/latex": [
       "0.70183343691734"
      ],
      "text/markdown": [
       "0.70183343691734"
      ],
      "text/plain": [
       "[1] 0.7018334"
      ]
     },
     "metadata": {},
     "output_type": "display_data"
    }
   ],
   "source": [
    "accuracy<-(confusion_matrix[1,1]+confusion_matrix[2,2])/(sum(confusion_matrix))\n",
    "accuracy"
   ]
  },
  {
   "cell_type": "markdown",
   "metadata": {},
   "source": [
    "However, accuracy alone is not good enough to determine the efficiency of the model. Consider how results are marked as either correct or incorrect:\n",
    "<ul>\n",
    "<li><b>True Positive (TP)</b>: Some values which are supposed to be a one, are marked correctly as a one.</li>\n",
    "<li><b>False Positive (FP)</b>: Some values which are supposed to be a zero, are marked incorrectly as a one.</li>\n",
    "<li><b>True Negative (TN)</b>: Some values which are supposed to be a zero, are marked correctly as a zero.</li>\n",
    "<li><b>False Negative (FN)</b>: Some values which are supposed to be a one, are marked incorrectly as a zero.</li>\n",
    "</ul>\n",
    "\n",
    "There may arise situations where the TP or TN value count is less than the FP or FN value count, respectively. In such a case, despite having less number of correct values, we find that accuracy increases, since accuracy is defined as:\n",
    "\n",
    "<b><i>Accuracy</i> = <i>(TP + TN)</i> / <i>(TP + FP + TN + FN)</i></b>\n",
    "\n",
    "This is called the accuracy paradox.\n",
    "\n",
    "Therefore, two other metrics are defined to describe the efficiency of the model: sensitivity and specificity."
   ]
  },
  {
   "cell_type": "markdown",
   "metadata": {},
   "source": [
    "<ul>\n",
    "<li>Sensitivity is the percentage of positive values that are identified as a positive (when a one is correctly identified as a one)</li>\n",
    "<li>Specificity is the percentage of negative values that are identified as a negative (when a zero is correctly identified as a zero).</li>\n",
    "</ul>\n",
    "\n",
    "<b><i>Sensitivity</i> = <i>TP</i> / <i>(TP + FN)</i></b> and <b><i>specificity</i> = <i>TN</i> / <i>(TN + FP)</i></b>."
   ]
  },
  {
   "cell_type": "code",
   "execution_count": 43,
   "metadata": {},
   "outputs": [
    {
     "data": {
      "text/html": [
       "0.997781721384206"
      ],
      "text/latex": [
       "0.997781721384206"
      ],
      "text/markdown": [
       "0.997781721384206"
      ],
      "text/plain": [
       "[1] 0.9977817"
      ]
     },
     "metadata": {},
     "output_type": "display_data"
    },
    {
     "data": {
      "text/html": [
       "0.00985477178423236"
      ],
      "text/latex": [
       "0.00985477178423236"
      ],
      "text/markdown": [
       "0.00985477178423236"
      ],
      "text/plain": [
       "[1] 0.009854772"
      ]
     },
     "metadata": {},
     "output_type": "display_data"
    }
   ],
   "source": [
    "sensitivity<-confusion_matrix[1,1]/(confusion_matrix[1,1]+confusion_matrix[1,2])\n",
    "sensitivity\n",
    "\n",
    "specificity<-confusion_matrix[2,2]/(confusion_matrix[2,1]+confusion_matrix[2,2])\n",
    "specificity"
   ]
  },
  {
   "cell_type": "markdown",
   "metadata": {},
   "source": [
    "We see that sensitvity is quite high, at 0.997781721384206, while specificity is comapratively very low, at 0.00985477178423236."
   ]
  },
  {
   "cell_type": "markdown",
   "metadata": {},
   "source": [
    "Next, we try a different approach to the model building process, by constructing a decision tree using the dataset variables as input. This is done to see if we can achieve a better result using a different model:\n",
    "\n",
    "The <b>rpart()</b> and <b>rpart.plot()</b> functions are used to create a decision tree based on the parameters. The value CP stands for Complexity Parameter, and is used to control the size of the tree during the building process."
   ]
  },
  {
   "cell_type": "code",
   "execution_count": 44,
   "metadata": {},
   "outputs": [
    {
     "name": "stderr",
     "output_type": "stream",
     "text": [
      "Warning message:\n",
      "\"package 'rpart' was built under R version 3.3.3\"Warning message:\n",
      "\"package 'rpart.plot' was built under R version 3.3.3\""
     ]
    },
    {
     "name": "stdout",
     "output_type": "stream",
     "text": [
      "\n",
      "Classification tree:\n",
      "rpart(formula = resp ~ AGE + CRED + MS + HEQ + INCOME + DEPC + \n",
      "    MOB + MILEAGE + RESTYPE + GENDER + EMP_STA + RES_STA + DELINQ + \n",
      "    NUMTR + MRTGI + MFDU, data = training, method = \"class\", \n",
      "    control = rpart.control(minsplit = 30, cp = 0.001))\n",
      "\n",
      "Variables actually used in tree construction:\n",
      " [1] AGE     CRED    DELINQ  DEPC    GENDER  HEQ     INCOME  MILEAGE MS     \n",
      "[10] NUMTR   RESTYPE\n",
      "\n",
      "Root node error: 9640/32179 = 0.29957\n",
      "\n",
      "n= 32179 \n",
      "\n",
      "         CP nsplit rel error  xerror      xstd\n",
      "1 0.0033454      0   1.00000 1.00000 0.0085240\n",
      "2 0.0026971      5   0.98299 0.99741 0.0085176\n",
      "3 0.0020401      6   0.98029 0.98890 0.0084966\n",
      "4 0.0014523      9   0.97417 0.98143 0.0084779\n",
      "5 0.0013226     12   0.96981 0.97811 0.0084695\n",
      "6 0.0012448     16   0.96452 0.97510 0.0084619\n",
      "7 0.0011411     48   0.91317 0.96629 0.0084393\n",
      "8 0.0010373     53   0.90612 0.95757 0.0084165\n",
      "9 0.0010000     55   0.90405 0.95394 0.0084070\n"
     ]
    },
    {
     "data": {
      "image/png": "[encoded data removed]",
      "text/plain": [
       "plot without title"
      ]
     },
     "metadata": {},
     "output_type": "display_data"
    }
   ],
   "source": [
    "library(rpart)\n",
    "library(rpart.plot)\n",
    "tree=rpart(resp ~ AGE+CRED+MS+HEQ+INCOME+DEPC+MOB+MILEAGE+RESTYPE+GENDER+EMP_STA+RES_STA+DELINQ+NUMTR+MRTGI+MFDU,method = \"class\",control =rpart.control(minsplit = 30,cp=0.001),data = training)\n",
    "rpart.plot(tree)\n",
    "printcp(tree)"
   ]
  },
  {
   "cell_type": "markdown",
   "metadata": {},
   "source": [
    "We continue this procedure till we get an optimal value of CP, which would then build a decision tree with the exact, required size. After multiple trails, we get an optimal CP value of 0.0012448. Building the decision tree using this value, we get:"
   ]
  },
  {
   "cell_type": "code",
   "execution_count": 45,
   "metadata": {},
   "outputs": [
    {
     "name": "stdout",
     "output_type": "stream",
     "text": [
      "\n",
      "Classification tree:\n",
      "rpart(formula = resp ~ AGE + CRED + MS + HEQ + INCOME + DEPC + \n",
      "    MOB + MILEAGE + RESTYPE + GENDER + EMP_STA + RES_STA + DELINQ + \n",
      "    NUMTR + MRTGI + MFDU, data = training, method = \"class\", \n",
      "    control = rpart.control(minsplit = 30, cp = 0.0012448))\n",
      "\n",
      "Variables actually used in tree construction:\n",
      " [1] AGE     CRED    DELINQ  DEPC    GENDER  HEQ     INCOME  MILEAGE MS     \n",
      "[10] NUMTR   RESTYPE\n",
      "\n",
      "Root node error: 9640/32179 = 0.29957\n",
      "\n",
      "n= 32179 \n",
      "\n",
      "         CP nsplit rel error  xerror      xstd\n",
      "1 0.0033454      0   1.00000 1.00000 0.0085240\n",
      "2 0.0026971      5   0.98299 0.99046 0.0085005\n",
      "3 0.0020401      6   0.98029 0.98589 0.0084891\n",
      "4 0.0014523      9   0.97417 0.98154 0.0084782\n",
      "5 0.0013226     12   0.96981 0.97614 0.0084645\n",
      "6 0.0012448     16   0.96452 0.96898 0.0084462\n",
      "7 0.0012448     48   0.91317 0.96836 0.0084446\n"
     ]
    },
    {
     "data": {
      "image/png": "[encoded data removed]",
      "text/plain": [
       "plot without title"
      ]
     },
     "metadata": {},
     "output_type": "display_data"
    }
   ],
   "source": [
    "tree=rpart(resp ~ AGE+CRED+MS+HEQ+INCOME+DEPC+MOB+MILEAGE+RESTYPE+GENDER+EMP_STA+RES_STA+DELINQ+NUMTR+MRTGI+MFDU,method = \"class\",control =rpart.control(minsplit = 30,cp=0.0012448),data = training)\n",
    "plotcp(tree)\n",
    "printcp(tree)"
   ]
  },
  {
   "cell_type": "markdown",
   "metadata": {},
   "source": [
    "We again compute the predictors (here, the different types of classes), build a confusion matrix using the predictors, and then calculate its accuracy; this time when the CP value is 0.0012448."
   ]
  },
  {
   "cell_type": "markdown",
   "metadata": {},
   "source": [
    "Validation\n",
    "==="
   ]
  },
  {
   "cell_type": "markdown",
   "metadata": {},
   "source": [
    "We finally come to the last step in the modelling process, i.e., validation. Here, we try to assess how well our mining models perform against real, independent datasets.\n",
    "\n",
    "There are many approaches for assessing the quality and characteristics of a data mining model:\n",
    "<ul>\n",
    "<li>Use various measures of statistical validity to determine whether there are problems in the data or in the model.</li>\n",
    "<li>Separate the data into training and testing sets to test the accuracy of predictions.</li>\n",
    "<li>Ask business experts to review the results of the data mining model to determine whether the discovered patterns have meaning in the targeted business scenario</li>\n",
    "</ul>\n",
    "\n",
    "Here, we use the <i>k</i>-fold cross-validation method to do this. In this method, the original sample is randomly partitioned into <i>k</i> equal sized sub-samples. Of the <i>k</i> sub-samples, a single sub-sample is retained as the validation data for testing the model, and the remaining (<i>k</i> − 1) sub-samples are used as training data. The cross-validation process is then repeated <i>k</i> times (the folds), with each of the <i>k</i> sub-samples used exactly once as the validation data. The <i>k</i> results from the folds can then be averaged to produce a single estimation.\n",
    "\n",
    "The functions used are:\n",
    "<ul>\n",
    "<li><b>train()</b> is used to evaluate, using resampling, the effect of model tuning parameters on performance and then choose the optimal model across these parameters</li>\n",
    "<li><b>trainControl()</b> is used to control the computational parameters set by <b>train()</b></li>\n",
    "<li><b>as.factor()</b> is used typically to convert numeric or character data into factor data</li>\n",
    "</ul>"
   ]
  },
  {
   "cell_type": "markdown",
   "metadata": {},
   "source": [
    "Training the dataset using cross-validation:"
   ]
  },
  {
   "cell_type": "code",
   "execution_count": 46,
   "metadata": {},
   "outputs": [
    {
     "name": "stderr",
     "output_type": "stream",
     "text": [
      "Warning message:\n",
      "\"package 'caret' was built under R version 3.3.3\"Loading required package: lattice\n"
     ]
    },
    {
     "data": {
      "text/plain": [
       "$method\n",
       "[1] \"cv\"\n",
       "\n",
       "$number\n",
       "[1] 10\n",
       "\n",
       "$repeats\n",
       "[1] 1\n",
       "\n",
       "$search\n",
       "[1] \"grid\"\n",
       "\n",
       "$p\n",
       "[1] 0.75\n",
       "\n",
       "$initialWindow\n",
       "NULL\n",
       "\n",
       "$horizon\n",
       "[1] 1\n",
       "\n",
       "$fixedWindow\n",
       "[1] TRUE\n",
       "\n",
       "$skip\n",
       "[1] 0\n",
       "\n",
       "$verboseIter\n",
       "[1] FALSE\n",
       "\n",
       "$returnData\n",
       "[1] TRUE\n",
       "\n",
       "$returnResamp\n",
       "[1] \"final\"\n",
       "\n",
       "$savePredictions\n",
       "[1] FALSE\n",
       "\n",
       "$classProbs\n",
       "[1] FALSE\n",
       "\n",
       "$summaryFunction\n",
       "function (data, lev = NULL, model = NULL) \n",
       "{\n",
       "    if (is.character(data$obs)) \n",
       "        data$obs <- factor(data$obs, levels = lev)\n",
       "    postResample(data[, \"pred\"], data[, \"obs\"])\n",
       "}\n",
       "<environment: namespace:caret>\n",
       "\n",
       "$selectionFunction\n",
       "[1] \"best\"\n",
       "\n",
       "$preProcOptions\n",
       "$preProcOptions$thresh\n",
       "[1] 0.95\n",
       "\n",
       "$preProcOptions$ICAcomp\n",
       "[1] 3\n",
       "\n",
       "$preProcOptions$k\n",
       "[1] 5\n",
       "\n",
       "$preProcOptions$freqCut\n",
       "[1] 19\n",
       "\n",
       "$preProcOptions$uniqueCut\n",
       "[1] 10\n",
       "\n",
       "$preProcOptions$cutoff\n",
       "[1] 0.9\n",
       "\n",
       "\n",
       "$sampling\n",
       "NULL\n",
       "\n",
       "$index\n",
       "NULL\n",
       "\n",
       "$indexOut\n",
       "NULL\n",
       "\n",
       "$indexFinal\n",
       "NULL\n",
       "\n",
       "$timingSamps\n",
       "[1] 0\n",
       "\n",
       "$predictionBounds\n",
       "[1] FALSE FALSE\n",
       "\n",
       "$seeds\n",
       "[1] NA\n",
       "\n",
       "$adaptive\n",
       "$adaptive$min\n",
       "[1] 5\n",
       "\n",
       "$adaptive$alpha\n",
       "[1] 0.05\n",
       "\n",
       "$adaptive$method\n",
       "[1] \"gls\"\n",
       "\n",
       "$adaptive$complete\n",
       "[1] TRUE\n",
       "\n",
       "\n",
       "$trim\n",
       "[1] FALSE\n",
       "\n",
       "$allowParallel\n",
       "[1] TRUE\n"
      ]
     },
     "metadata": {},
     "output_type": "display_data"
    }
   ],
   "source": [
    "library(caret)\n",
    "train <- trainControl(method=\"cv\", number=10)\n",
    "train\n",
    "  \n",
    "direct$resp<-as.factor(direct$resp)  \n",
    "K_fold<-train(resp ~ AGE+CRED+MS+HEQ+INCOME+DEPC+MOB+MILEAGE+RESTYPE+GENDER+EMP_STA+RES_STA+DELINQ+NUMTR+MRTGI+MFDU, method=\"rpart\", trControl=train, control=rpart.control(minsplit=10, cp=0.000001),  data=direct)"
   ]
  },
  {
   "cell_type": "markdown",
   "metadata": {},
   "source": [
    "Converting the data to factor format:"
   ]
  },
  {
   "cell_type": "code",
   "execution_count": 47,
   "metadata": {
    "collapsed": true
   },
   "outputs": [],
   "source": [
    "direct$resp<-as.factor(direct$resp)  \n",
    "K_fold<-train(resp ~ AGE+CRED+MS+HEQ+INCOME+DEPC+MOB+MILEAGE+RESTYPE+GENDER+EMP_STA+RES_STA+DELINQ+NUMTR+MRTGI+MFDU, method=\"rpart\", trControl=train, control=rpart.control(minsplit=10, cp=0.000001),  data=direct)"
   ]
  },
  {
   "cell_type": "markdown",
   "metadata": {},
   "source": [
    "Finally, we yet again compute the predictors (here, the different types of classes), build a confusion matrix using the predictors, and then calculate its accuracy:"
   ]
  },
  {
   "cell_type": "code",
   "execution_count": 48,
   "metadata": {},
   "outputs": [
    {
     "data": {
      "text/plain": [
       "      \n",
       "K_pred     0     1\n",
       "     0 27006  2699\n",
       "     1    41   158"
      ]
     },
     "metadata": {},
     "output_type": "display_data"
    },
    {
     "data": {
      "text/html": [
       "0.908373461744248"
      ],
      "text/latex": [
       "0.908373461744248"
      ],
      "text/markdown": [
       "0.908373461744248"
      ],
      "text/plain": [
       "[1] 0.9083735"
      ]
     },
     "metadata": {},
     "output_type": "display_data"
    }
   ],
   "source": [
    "K_pred<-predict(K_fold)\n",
    "\n",
    "confusion_matrix<-table(K_pred,direct$resp)\n",
    "confusion_matrix\n",
    "\n",
    "accuracy<-(confusion_matrix[1,1]+confusion_matrix[2,2])/(sum(confusion_matrix))\n",
    "accuracy"
   ]
  },
  {
   "cell_type": "markdown",
   "metadata": {},
   "source": [
    "We find that the current accuracy, 0.908373461744248, is a significant improvement, when compared to the accuracy before the validation procedure, 0.70183343691734. This shows that validation using <i>k</i>-fold cross validation technique is successful.\n",
    "\n"
   ]
  },
  {
   "cell_type": "markdown",
   "metadata": {},
   "source": [
    "> # END"
   ]
  }
 ],
 "metadata": {
  "kernelspec": {
   "display_name": "R",
   "language": "R",
   "name": "ir"
  },
  "language_info": {
   "codemirror_mode": "r",
   "file_extension": ".r",
   "mimetype": "text/x-r-source",
   "name": "R",
   "pygments_lexer": "r",
   "version": "3.3.2"
  }
 },
 "nbformat": 4,
 "nbformat_minor": 2
}
